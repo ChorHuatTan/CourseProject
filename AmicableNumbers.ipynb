{
 "cells": [
  {
   "cell_type": "markdown",
   "metadata": {},
   "source": [
    "### Amicable numbers\n",
    "\n",
    "### The Most Beautiful Equation in the World And the Geometry of Numbers\n",
    "Kasper Müller\n",
    "\n",
    "Dec 11, 2020"
   ]
  },
  {
   "cell_type": "code",
   "execution_count": 4,
   "metadata": {},
   "outputs": [],
   "source": [
    "import numpy as np\n",
    "import pandas as pd"
   ]
  },
  {
   "cell_type": "code",
   "execution_count": null,
   "metadata": {},
   "outputs": [],
   "source": []
  },
  {
   "cell_type": "code",
   "execution_count": 5,
   "metadata": {},
   "outputs": [],
   "source": [
    "def properDivisors(Num):\n",
    "    l=[]\n",
    "\n",
    "    for i in range(1,Num):\n",
    "        if (Num % i)==0:\n",
    "            l.append(i)\n",
    "    return l"
   ]
  },
  {
   "cell_type": "code",
   "execution_count": 494,
   "metadata": {},
   "outputs": [
    {
     "data": {
      "text/plain": [
       "[1, 2, 3]"
      ]
     },
     "execution_count": 494,
     "metadata": {},
     "output_type": "execute_result"
    }
   ],
   "source": [
    "Num=6\n",
    "properDivisors(Num)"
   ]
  },
  {
   "cell_type": "code",
   "execution_count": 495,
   "metadata": {},
   "outputs": [],
   "source": [
    "Num1=220\n",
    "Num2=284"
   ]
  },
  {
   "cell_type": "code",
   "execution_count": 496,
   "metadata": {},
   "outputs": [
    {
     "name": "stdout",
     "output_type": "stream",
     "text": [
      "Sum of proper divisors of 220 is 284 - [1, 2, 4, 5, 10, 11, 20, 22, 44, 55, 110]\n",
      "Sum of proper divisors of 284 is 220 - [1, 2, 4, 71, 142]\n"
     ]
    }
   ],
   "source": [
    "print(f'Sum of proper divisors of {Num1} is {sum(properDivisors(Num1))} - {properDivisors(Num1)}')\n",
    "print(f'Sum of proper divisors of {Num2} is {sum(properDivisors(Num2))} - {properDivisors(Num2)}')"
   ]
  },
  {
   "cell_type": "code",
   "execution_count": 497,
   "metadata": {},
   "outputs": [
    {
     "name": "stdout",
     "output_type": "stream",
     "text": [
      "Sum of proper divisors of 220 is 284 - [1, 2, 4, 5, 10, 11, 20, 22, 44, 55, 110]\n",
      "Sum of proper divisors of 284 is 220 - [1, 2, 4, 71, 142]\n"
     ]
    }
   ],
   "source": [
    "# Thābit ibn Qurra\n",
    "\n",
    "Num1=220\n",
    "Num2=284\n",
    "\n",
    "print(f'Sum of proper divisors of {Num1} is {sum(properDivisors(Num1))} - {properDivisors(Num1)}')\n",
    "print(f'Sum of proper divisors of {Num2} is {sum(properDivisors(Num2))} - {properDivisors(Num2)}')"
   ]
  },
  {
   "cell_type": "code",
   "execution_count": 498,
   "metadata": {},
   "outputs": [
    {
     "name": "stdout",
     "output_type": "stream",
     "text": [
      "Sum of proper divisors of 17296 is 18416 \n",
      "- [1, 2, 4, 8, 16, 23, 46, 47, 92, 94, 184, 188, 368, 376, 752, 1081, 2162, 4324, 8648]\n",
      "Sum of proper divisors of 18416 is 17296 \n",
      "- [1, 2, 4, 8, 16, 1151, 2302, 4604, 9208]\n"
     ]
    }
   ],
   "source": [
    "#  Pierre De Fermat's amicable numbers\n",
    "\n",
    "Num1=17296 \n",
    "Num2=18416\n",
    "\n",
    "print(f'Sum of proper divisors of {Num1} is {sum(properDivisors(Num1))} \\n- {properDivisors(Num1)}')\n",
    "print(f'Sum of proper divisors of {Num2} is {sum(properDivisors(Num2))} \\n- {properDivisors(Num2)}')"
   ]
  },
  {
   "cell_type": "code",
   "execution_count": 499,
   "metadata": {},
   "outputs": [
    {
     "name": "stdout",
     "output_type": "stream",
     "text": [
      "Sum of proper divisors of 9363584 is 9437056 \n",
      "- [1, 2, 4, 8, 16, 32, 64, 128, 191, 382, 383, 764, 766, 1528, 1532, 3056, 3064, 6112, 6128, 12224, 12256, 24448, 24512, 49024, 73153, 146306, 292612, 585224, 1170448, 2340896, 4681792]\n",
      "Sum of proper divisors of 9437056 is 9363584 \n",
      "- [1, 2, 4, 8, 16, 32, 64, 128, 73727, 147454, 294908, 589816, 1179632, 2359264, 4718528]\n"
     ]
    }
   ],
   "source": [
    "#  René Descartes amicable numbers\n",
    "\n",
    "Num1=9363584\n",
    "Num2=9437056\n",
    "\n",
    "print(f'Sum of proper divisors of {Num1} is {sum(properDivisors(Num1))} \\n- {properDivisors(Num1)}')\n",
    "print(f'Sum of proper divisors of {Num2} is {sum(properDivisors(Num2))} \\n- {properDivisors(Num2)}')"
   ]
  },
  {
   "cell_type": "code",
   "execution_count": null,
   "metadata": {},
   "outputs": [],
   "source": []
  },
  {
   "cell_type": "code",
   "execution_count": null,
   "metadata": {},
   "outputs": [],
   "source": []
  },
  {
   "cell_type": "code",
   "execution_count": null,
   "metadata": {},
   "outputs": [],
   "source": []
  },
  {
   "cell_type": "code",
   "execution_count": null,
   "metadata": {},
   "outputs": [],
   "source": []
  },
  {
   "cell_type": "code",
   "execution_count": null,
   "metadata": {},
   "outputs": [],
   "source": []
  },
  {
   "cell_type": "code",
   "execution_count": null,
   "metadata": {},
   "outputs": [],
   "source": [
    "# Perfect numbers"
   ]
  },
  {
   "cell_type": "code",
   "execution_count": 63,
   "metadata": {},
   "outputs": [],
   "source": [
    "def perfectNumber(Num):\n",
    "    \n",
    "    if sum(properDivisors(Num))==Num:\n",
    "        return True\n",
    "    else:\n",
    "        return False"
   ]
  },
  {
   "cell_type": "code",
   "execution_count": 64,
   "metadata": {},
   "outputs": [
    {
     "data": {
      "text/plain": [
       "True"
      ]
     },
     "execution_count": 64,
     "metadata": {},
     "output_type": "execute_result"
    }
   ],
   "source": [
    "perfectNumber(6)"
   ]
  },
  {
   "cell_type": "code",
   "execution_count": 65,
   "metadata": {},
   "outputs": [
    {
     "name": "stdout",
     "output_type": "stream",
     "text": [
      "    6 is a perfect number\n"
     ]
    }
   ],
   "source": [
    "for x in range(1,10):\n",
    "    if perfectNumber(x):\n",
    "        print(f'{x:5} is a perfect number')"
   ]
  },
  {
   "cell_type": "code",
   "execution_count": 66,
   "metadata": {},
   "outputs": [
    {
     "name": "stdout",
     "output_type": "stream",
     "text": [
      "    6 is a perfect number\n",
      "   28 is a perfect number\n"
     ]
    }
   ],
   "source": [
    "for x in range(1,100):\n",
    "    if perfectNumber(x):\n",
    "        print(f'{x:5} is a perfect number')"
   ]
  },
  {
   "cell_type": "code",
   "execution_count": 67,
   "metadata": {},
   "outputs": [
    {
     "name": "stdout",
     "output_type": "stream",
     "text": [
      "    6 is a perfect number\n",
      "   28 is a perfect number\n",
      "  496 is a perfect number\n"
     ]
    }
   ],
   "source": [
    "for x in range(1,1000):\n",
    "    if perfectNumber(x):\n",
    "        print(f'{x:5} is a perfect number')"
   ]
  },
  {
   "cell_type": "code",
   "execution_count": 68,
   "metadata": {},
   "outputs": [
    {
     "name": "stdout",
     "output_type": "stream",
     "text": [
      "    6 is a perfect number\n",
      "   28 is a perfect number\n",
      "  496 is a perfect number\n",
      " 8128 is a perfect number\n",
      "Wall time: 3.41 s\n"
     ]
    }
   ],
   "source": [
    "%%time\n",
    "for x in range(1,10000):\n",
    "    if perfectNumber(x):\n",
    "        print(f'{x:5} is a perfect number')"
   ]
  },
  {
   "cell_type": "code",
   "execution_count": null,
   "metadata": {},
   "outputs": [],
   "source": [
    "# Amicable numbers"
   ]
  },
  {
   "cell_type": "code",
   "execution_count": 500,
   "metadata": {},
   "outputs": [],
   "source": [
    "def amicableNumbers(Num1, Num2):\n",
    "    if sum(properDivisors(Num1))==Num2 and Num1==sum(properDivisors(Num2)):\n",
    "        print(f'{Num1} & {Num2} are ambicable numbers')\n",
    "    else:\n",
    "        print(f'{Num1} & {Num2} are NOT ambicable numbers')\n",
    "\n",
    "def isAmicableNumbers(Num1, Num2):\n",
    "    if sum(properDivisors(Num1))==Num2 and Num1==sum(properDivisors(Num2)):\n",
    "        return True\n",
    "    else:\n",
    "        return False"
   ]
  },
  {
   "cell_type": "code",
   "execution_count": 306,
   "metadata": {},
   "outputs": [
    {
     "name": "stdout",
     "output_type": "stream",
     "text": [
      "220 & 248 are NOT ambicable numbers\n"
     ]
    }
   ],
   "source": [
    "amicableNumbers(220, 248)"
   ]
  },
  {
   "cell_type": "code",
   "execution_count": 307,
   "metadata": {},
   "outputs": [
    {
     "name": "stdout",
     "output_type": "stream",
     "text": [
      "17296 & 18416 are ambicable numbers\n",
      "Wall time: 2.99 ms\n"
     ]
    }
   ],
   "source": [
    "%%time\n",
    "Num1=17296 \n",
    "Num2=18416\n",
    "amicableNumbers(Num1, Num2)"
   ]
  },
  {
   "cell_type": "code",
   "execution_count": 308,
   "metadata": {},
   "outputs": [
    {
     "name": "stdout",
     "output_type": "stream",
     "text": [
      "9363584 & 9437056 are ambicable numbers\n",
      "Wall time: 2.17 s\n"
     ]
    }
   ],
   "source": [
    "%%time\n",
    "Num1=9363584\n",
    "Num2=9437056\n",
    "amicableNumbers(Num1, Num2)"
   ]
  },
  {
   "cell_type": "code",
   "execution_count": 312,
   "metadata": {},
   "outputs": [
    {
     "name": "stdout",
     "output_type": "stream",
     "text": [
      "220,284 are amicable number\n",
      "284,220 are amicable number\n",
      "Wall time: 29.3 s\n"
     ]
    }
   ],
   "source": [
    "%%time\n",
    "n=1000\n",
    "for x in range(1,n+1):\n",
    "    for y in range(1,n+1):\n",
    "        if isAmicableNumbers(x,y) and x!=y:\n",
    "            print(f'{x},{y} are amicable number')\n"
   ]
  },
  {
   "cell_type": "code",
   "execution_count": 101,
   "metadata": {},
   "outputs": [
    {
     "name": "stdout",
     "output_type": "stream",
     "text": [
      "There are 1 amicable numbers\n",
      "\n",
      "Elaspe time : 0:00:00.084774\n"
     ]
    }
   ],
   "source": [
    "import datetime as dt\n",
    "import pandas as pd\n",
    "\n",
    "def properDivisors(Num):\n",
    "    l=[]\n",
    "\n",
    "    for i in range(1,Num):\n",
    "        if (Num % i)==0:\n",
    "            l.append(i)\n",
    "    return l\n",
    "\n",
    "startTime=dt.datetime.now()\n",
    "\n",
    "myFactors=np.arange(0,1000)\n",
    "\n",
    "myFactors=pd.DataFrame({'Number':myFactors})\n",
    "myFactors['Sum']=myFactors.Number.apply(properDivisors).apply(sum)\n",
    "myFactors['Perfect']=myFactors.Number==myFactors.Sum\n",
    "myFactors['Amicable']=np.where(~myFactors.Perfect, myFactors.Number==myFactors.Sum.apply(properDivisors).apply(sum),False)\n",
    "\n",
    "print(f'There are {myFactors[myFactors.Amicable].Amicable.count()/2:.0f} amicable numbers\\n')\n",
    "myFactors[myFactors.Amicable][['Number', 'Sum']]\n",
    "\n",
    "myResults=myFactors[myFactors.Perfect | myFactors.Amicable]\n",
    "myResults.drop(0).to_csv('PerfectAndAmicableNumbers.txt', index=False)\n",
    "\n",
    "endTime=dt.datetime.now()\n",
    "\n",
    "print(f'Elaspe time : {endTime-startTime}')"
   ]
  },
  {
   "cell_type": "code",
   "execution_count": 76,
   "metadata": {},
   "outputs": [
    {
     "data": {
      "text/plain": [
       "0"
      ]
     },
     "execution_count": 76,
     "metadata": {},
     "output_type": "execute_result"
    }
   ],
   "source": [
    "elapseTime=120\n",
    "\n",
    "elapseTime//360"
   ]
  },
  {
   "cell_type": "code",
   "execution_count": 27,
   "metadata": {},
   "outputs": [
    {
     "name": "stdout",
     "output_type": "stream",
     "text": [
      "There are 13 amicable numbers\n",
      "\n",
      "Wall time: 9min 57s\n"
     ]
    }
   ],
   "source": [
    "%%time\n",
    "\n",
    "myFactors=pd.DataFrame({'Number':np.arange(0,100000)})\n",
    "myFactors['Sum']=myFactors.Number.apply(properDivisors).apply(sum)\n",
    "myFactors['Perfect']=myFactors.Number==myFactors.Sum\n",
    "myFactors['Amicable']=np.where(~myFactors.Perfect, myFactors.Number==myFactors.Sum.apply(properDivisors).apply(sum),False)\n",
    "\n",
    "print(f'There are {myFactors[myFactors.Amicable].Amicable.count()/2:.0f} amicable numbers\\n')\n",
    "myFactors[myFactors.Amicable][['Number', 'Sum']]\n",
    "\n",
    "myResults=myFactors[myFactors.Perfect | myFactors.Amicable]\n",
    "myResults.drop(0).to_csv('PerfectAndAmicableNumbers.txt', index=False)\n",
    "\n",
    "\n"
   ]
  },
  {
   "cell_type": "code",
   "execution_count": 477,
   "metadata": {},
   "outputs": [],
   "source": [
    "df=pd.read_csv('PerfectAndAmicableNumbers.txt')"
   ]
  },
  {
   "cell_type": "code",
   "execution_count": 478,
   "metadata": {},
   "outputs": [
    {
     "data": {
      "text/html": [
       "<div>\n",
       "<style scoped>\n",
       "    .dataframe tbody tr th:only-of-type {\n",
       "        vertical-align: middle;\n",
       "    }\n",
       "\n",
       "    .dataframe tbody tr th {\n",
       "        vertical-align: top;\n",
       "    }\n",
       "\n",
       "    .dataframe thead th {\n",
       "        text-align: right;\n",
       "    }\n",
       "</style>\n",
       "<table border=\"1\" class=\"dataframe\">\n",
       "  <thead>\n",
       "    <tr style=\"text-align: right;\">\n",
       "      <th></th>\n",
       "      <th>Number</th>\n",
       "      <th>Sum</th>\n",
       "      <th>Perfect</th>\n",
       "      <th>Amicable</th>\n",
       "    </tr>\n",
       "  </thead>\n",
       "  <tbody>\n",
       "    <tr>\n",
       "      <th>0</th>\n",
       "      <td>6</td>\n",
       "      <td>6</td>\n",
       "      <td>True</td>\n",
       "      <td>False</td>\n",
       "    </tr>\n",
       "    <tr>\n",
       "      <th>1</th>\n",
       "      <td>28</td>\n",
       "      <td>28</td>\n",
       "      <td>True</td>\n",
       "      <td>False</td>\n",
       "    </tr>\n",
       "    <tr>\n",
       "      <th>2</th>\n",
       "      <td>220</td>\n",
       "      <td>284</td>\n",
       "      <td>False</td>\n",
       "      <td>True</td>\n",
       "    </tr>\n",
       "    <tr>\n",
       "      <th>3</th>\n",
       "      <td>284</td>\n",
       "      <td>220</td>\n",
       "      <td>False</td>\n",
       "      <td>True</td>\n",
       "    </tr>\n",
       "    <tr>\n",
       "      <th>4</th>\n",
       "      <td>496</td>\n",
       "      <td>496</td>\n",
       "      <td>True</td>\n",
       "      <td>False</td>\n",
       "    </tr>\n",
       "    <tr>\n",
       "      <th>5</th>\n",
       "      <td>1184</td>\n",
       "      <td>1210</td>\n",
       "      <td>False</td>\n",
       "      <td>True</td>\n",
       "    </tr>\n",
       "    <tr>\n",
       "      <th>6</th>\n",
       "      <td>1210</td>\n",
       "      <td>1184</td>\n",
       "      <td>False</td>\n",
       "      <td>True</td>\n",
       "    </tr>\n",
       "    <tr>\n",
       "      <th>7</th>\n",
       "      <td>2620</td>\n",
       "      <td>2924</td>\n",
       "      <td>False</td>\n",
       "      <td>True</td>\n",
       "    </tr>\n",
       "    <tr>\n",
       "      <th>8</th>\n",
       "      <td>2924</td>\n",
       "      <td>2620</td>\n",
       "      <td>False</td>\n",
       "      <td>True</td>\n",
       "    </tr>\n",
       "    <tr>\n",
       "      <th>9</th>\n",
       "      <td>5020</td>\n",
       "      <td>5564</td>\n",
       "      <td>False</td>\n",
       "      <td>True</td>\n",
       "    </tr>\n",
       "    <tr>\n",
       "      <th>10</th>\n",
       "      <td>5564</td>\n",
       "      <td>5020</td>\n",
       "      <td>False</td>\n",
       "      <td>True</td>\n",
       "    </tr>\n",
       "    <tr>\n",
       "      <th>11</th>\n",
       "      <td>6232</td>\n",
       "      <td>6368</td>\n",
       "      <td>False</td>\n",
       "      <td>True</td>\n",
       "    </tr>\n",
       "    <tr>\n",
       "      <th>12</th>\n",
       "      <td>6368</td>\n",
       "      <td>6232</td>\n",
       "      <td>False</td>\n",
       "      <td>True</td>\n",
       "    </tr>\n",
       "    <tr>\n",
       "      <th>13</th>\n",
       "      <td>8128</td>\n",
       "      <td>8128</td>\n",
       "      <td>True</td>\n",
       "      <td>False</td>\n",
       "    </tr>\n",
       "    <tr>\n",
       "      <th>14</th>\n",
       "      <td>10744</td>\n",
       "      <td>10856</td>\n",
       "      <td>False</td>\n",
       "      <td>True</td>\n",
       "    </tr>\n",
       "    <tr>\n",
       "      <th>15</th>\n",
       "      <td>10856</td>\n",
       "      <td>10744</td>\n",
       "      <td>False</td>\n",
       "      <td>True</td>\n",
       "    </tr>\n",
       "    <tr>\n",
       "      <th>16</th>\n",
       "      <td>12285</td>\n",
       "      <td>14595</td>\n",
       "      <td>False</td>\n",
       "      <td>True</td>\n",
       "    </tr>\n",
       "    <tr>\n",
       "      <th>17</th>\n",
       "      <td>14595</td>\n",
       "      <td>12285</td>\n",
       "      <td>False</td>\n",
       "      <td>True</td>\n",
       "    </tr>\n",
       "    <tr>\n",
       "      <th>18</th>\n",
       "      <td>17296</td>\n",
       "      <td>18416</td>\n",
       "      <td>False</td>\n",
       "      <td>True</td>\n",
       "    </tr>\n",
       "    <tr>\n",
       "      <th>19</th>\n",
       "      <td>18416</td>\n",
       "      <td>17296</td>\n",
       "      <td>False</td>\n",
       "      <td>True</td>\n",
       "    </tr>\n",
       "    <tr>\n",
       "      <th>20</th>\n",
       "      <td>63020</td>\n",
       "      <td>76084</td>\n",
       "      <td>False</td>\n",
       "      <td>True</td>\n",
       "    </tr>\n",
       "    <tr>\n",
       "      <th>21</th>\n",
       "      <td>66928</td>\n",
       "      <td>66992</td>\n",
       "      <td>False</td>\n",
       "      <td>True</td>\n",
       "    </tr>\n",
       "    <tr>\n",
       "      <th>22</th>\n",
       "      <td>66992</td>\n",
       "      <td>66928</td>\n",
       "      <td>False</td>\n",
       "      <td>True</td>\n",
       "    </tr>\n",
       "    <tr>\n",
       "      <th>23</th>\n",
       "      <td>67095</td>\n",
       "      <td>71145</td>\n",
       "      <td>False</td>\n",
       "      <td>True</td>\n",
       "    </tr>\n",
       "    <tr>\n",
       "      <th>24</th>\n",
       "      <td>69615</td>\n",
       "      <td>87633</td>\n",
       "      <td>False</td>\n",
       "      <td>True</td>\n",
       "    </tr>\n",
       "    <tr>\n",
       "      <th>25</th>\n",
       "      <td>71145</td>\n",
       "      <td>67095</td>\n",
       "      <td>False</td>\n",
       "      <td>True</td>\n",
       "    </tr>\n",
       "    <tr>\n",
       "      <th>26</th>\n",
       "      <td>76084</td>\n",
       "      <td>63020</td>\n",
       "      <td>False</td>\n",
       "      <td>True</td>\n",
       "    </tr>\n",
       "    <tr>\n",
       "      <th>27</th>\n",
       "      <td>79750</td>\n",
       "      <td>88730</td>\n",
       "      <td>False</td>\n",
       "      <td>True</td>\n",
       "    </tr>\n",
       "    <tr>\n",
       "      <th>28</th>\n",
       "      <td>87633</td>\n",
       "      <td>69615</td>\n",
       "      <td>False</td>\n",
       "      <td>True</td>\n",
       "    </tr>\n",
       "    <tr>\n",
       "      <th>29</th>\n",
       "      <td>88730</td>\n",
       "      <td>79750</td>\n",
       "      <td>False</td>\n",
       "      <td>True</td>\n",
       "    </tr>\n",
       "  </tbody>\n",
       "</table>\n",
       "</div>"
      ],
      "text/plain": [
       "    Number    Sum  Perfect  Amicable\n",
       "0        6      6     True     False\n",
       "1       28     28     True     False\n",
       "2      220    284    False      True\n",
       "3      284    220    False      True\n",
       "4      496    496     True     False\n",
       "5     1184   1210    False      True\n",
       "6     1210   1184    False      True\n",
       "7     2620   2924    False      True\n",
       "8     2924   2620    False      True\n",
       "9     5020   5564    False      True\n",
       "10    5564   5020    False      True\n",
       "11    6232   6368    False      True\n",
       "12    6368   6232    False      True\n",
       "13    8128   8128     True     False\n",
       "14   10744  10856    False      True\n",
       "15   10856  10744    False      True\n",
       "16   12285  14595    False      True\n",
       "17   14595  12285    False      True\n",
       "18   17296  18416    False      True\n",
       "19   18416  17296    False      True\n",
       "20   63020  76084    False      True\n",
       "21   66928  66992    False      True\n",
       "22   66992  66928    False      True\n",
       "23   67095  71145    False      True\n",
       "24   69615  87633    False      True\n",
       "25   71145  67095    False      True\n",
       "26   76084  63020    False      True\n",
       "27   79750  88730    False      True\n",
       "28   87633  69615    False      True\n",
       "29   88730  79750    False      True"
      ]
     },
     "execution_count": 478,
     "metadata": {},
     "output_type": "execute_result"
    }
   ],
   "source": [
    "df"
   ]
  },
  {
   "cell_type": "code",
   "execution_count": 487,
   "metadata": {},
   "outputs": [
    {
     "data": {
      "text/plain": [
       "Number      31\n",
       "Sum         31\n",
       "Perfect     31\n",
       "Amicable    31\n",
       "dtype: int64"
      ]
     },
     "execution_count": 487,
     "metadata": {},
     "output_type": "execute_result"
    }
   ],
   "source": [
    "myFactors.loc[myFactors.Perfect | myFactors.Amicable].count()"
   ]
  },
  {
   "cell_type": "code",
   "execution_count": 490,
   "metadata": {},
   "outputs": [],
   "source": [
    "myFactors.drop(0, inplace=True)"
   ]
  },
  {
   "cell_type": "code",
   "execution_count": 491,
   "metadata": {},
   "outputs": [
    {
     "data": {
      "text/html": [
       "<div>\n",
       "<style scoped>\n",
       "    .dataframe tbody tr th:only-of-type {\n",
       "        vertical-align: middle;\n",
       "    }\n",
       "\n",
       "    .dataframe tbody tr th {\n",
       "        vertical-align: top;\n",
       "    }\n",
       "\n",
       "    .dataframe thead th {\n",
       "        text-align: right;\n",
       "    }\n",
       "</style>\n",
       "<table border=\"1\" class=\"dataframe\">\n",
       "  <thead>\n",
       "    <tr style=\"text-align: right;\">\n",
       "      <th></th>\n",
       "      <th>Number</th>\n",
       "      <th>Sum</th>\n",
       "      <th>Perfect</th>\n",
       "      <th>Amicable</th>\n",
       "    </tr>\n",
       "  </thead>\n",
       "  <tbody>\n",
       "    <tr>\n",
       "      <th>1</th>\n",
       "      <td>1</td>\n",
       "      <td>0</td>\n",
       "      <td>False</td>\n",
       "      <td>False</td>\n",
       "    </tr>\n",
       "    <tr>\n",
       "      <th>2</th>\n",
       "      <td>2</td>\n",
       "      <td>1</td>\n",
       "      <td>False</td>\n",
       "      <td>False</td>\n",
       "    </tr>\n",
       "    <tr>\n",
       "      <th>3</th>\n",
       "      <td>3</td>\n",
       "      <td>1</td>\n",
       "      <td>False</td>\n",
       "      <td>False</td>\n",
       "    </tr>\n",
       "    <tr>\n",
       "      <th>4</th>\n",
       "      <td>4</td>\n",
       "      <td>3</td>\n",
       "      <td>False</td>\n",
       "      <td>False</td>\n",
       "    </tr>\n",
       "    <tr>\n",
       "      <th>5</th>\n",
       "      <td>5</td>\n",
       "      <td>1</td>\n",
       "      <td>False</td>\n",
       "      <td>False</td>\n",
       "    </tr>\n",
       "  </tbody>\n",
       "</table>\n",
       "</div>"
      ],
      "text/plain": [
       "   Number  Sum  Perfect  Amicable\n",
       "1       1    0    False     False\n",
       "2       2    1    False     False\n",
       "3       3    1    False     False\n",
       "4       4    3    False     False\n",
       "5       5    1    False     False"
      ]
     },
     "execution_count": 491,
     "metadata": {},
     "output_type": "execute_result"
    }
   ],
   "source": [
    "myFactors.head()"
   ]
  },
  {
   "cell_type": "code",
   "execution_count": 501,
   "metadata": {},
   "outputs": [
    {
     "data": {
      "text/plain": [
       "False"
      ]
     },
     "execution_count": 501,
     "metadata": {},
     "output_type": "execute_result"
    }
   ],
   "source": [
    "isAmicableNumbers(60,84)"
   ]
  },
  {
   "cell_type": "code",
   "execution_count": null,
   "metadata": {},
   "outputs": [],
   "source": []
  },
  {
   "cell_type": "code",
   "execution_count": null,
   "metadata": {},
   "outputs": [],
   "source": []
  },
  {
   "cell_type": "code",
   "execution_count": 26,
   "metadata": {},
   "outputs": [
    {
     "name": "stdout",
     "output_type": "stream",
     "text": [
      ">1 >101 >201 >301 >401 >501 >601 >701 >801 >901 >1001 >1101 >1201 >1301 >1401 >1501 >1601 >1701 >1801 >1901 >2001 >2101 >2201 >2301 >2401 >2501 >2601 >2701 >2801 >2901 >3001 >3101 >3201 >3301 >3401 >3501 >3601 >3701 >3801 >3901 >4001 >4101 >4201 >4301 >4401 >4501 >4601 >4701 >4801 >4901 >5001 >5101 >5201 >5301 >5401 >5501 >5601 >5701 >5801 >5901 >6001 >6101 >6201 >6301 >6401 >6501 >6601 >6701 >6801 >6901 >7001 >7101 >7201 >7301 >7401 >7501 >7601 >7701 >7801 >7901 >8001 >8101 >8201 >8301 >8401 >8501 >8601 >8701 >8801 >8901 >9001 >9101 >9201 >9301 >9401 >9501 >9601 >9701 >9801 >9901 >10001 >10101 >10201 >10301 >10401 >10501 >10601 >10701 >10801 >10901 >11001 >11101 >11201 >11301 >11401 >11501 >11601 >11701 >11801 >11901 >12001 >12101 >12201 >12301 >12401 >12501 >12601 >12701 >12801 >12901 >13001 >13101 >13201 >13301 >13401 >13501 >13601 >13701 >13801 >13901 >14001 >14101 >14201 >14301 >14401 >14501 >14601 >14701 >14801 >14901 >15001 >15101 >15201 >15301 >15401 >15501 >15601 >15701 >15801 >15901 >16001 >16101 >16201 >16301 >16401 >16501 >16601 >16701 >16801 >16901 >17001 >17101 >17201 >17301 >17401 >17501 >17601 >17701 >17801 >17901 >18001 >18101 >18201 >18301 >18401 >18501 >18601 >18701 >18801 >18901 >19001 >19101 >19201 >19301 >19401 >19501 >19601 >19701 >19801 >19901 >20001 >20101 >20201 >20301 >20401 >20501 >20601 >20701 >20801 >20901 >21001 >21101 >21201 >21301 >21401 >21501 >21601 >21701 >21801 >21901 >22001 >22101 >22201 >22301 >22401 >22501 >22601 >22701 >22801 >22901 >23001 >23101 >23201 >23301 >23401 >23501 >23601 >23701 >23801 >23901 >24001 >24101 >24201 >24301 >24401 >24501 >24601 >24701 >24801 >24901 >25001 >25101 >25201 >25301 >25401 >25501 >25601 >25701 >25801 >25901 >26001 >26101 >26201 >26301 >26401 >26501 >26601 >26701 >26801 >26901 >27001 >27101 >27201 >27301 >27401 >27501 >27601 >27701 >27801 >27901 >28001 >28101 >28201 >28301 >28401 >28501 >28601 >28701 >28801 >28901 >29001 >29101 >29201 >29301 >29401 >29501 >29601 >29701 >29801 >29901 >30001 >30101 >30201 >30301 >30401 >30501 >30601 >30701 >30801 >30901 >31001 >31101 >31201 >31301 >31401 >31501 >31601 >31701 >31801 >31901 >32001 >32101 >32201 >32301 >32401 >32501 >32601 >32701 >32801 >32901 >33001 >33101 >33201 >33301 >33401 >33501 >33601 >33701 >33801 >33901 >34001 >34101 >34201 >34301 >34401 >34501 >34601 >34701 >34801 >34901 >35001 >35101 >35201 >35301 >35401 >35501 >35601 >35701 >35801 >35901 >36001 >36101 >36201 >36301 >36401 >36501 >36601 >36701 >36801 >36901 >37001 >37101 >37201 >37301 >37401 >37501 >37601 >37701 >37801 >37901 >38001 >38101 >38201 >38301 >38401 >38501 >38601 >38701 >38801 >38901 >39001 >39101 >39201 >39301 >39401 >39501 >39601 >39701 >39801 >39901 >40001 >40101 >40201 >40301 >40401 >40501 >40601 >40701 >40801 >40901 >41001 >41101 >41201 >41301 >41401 >41501 >41601 >41701 >41801 >41901 >42001 >42101 >42201 >42301 >42401 >42501 >42601 >42701 >42801 >42901 >43001 >43101 >43201 >43301 >43401 >43501 >43601 >43701 >43801 >43901 >44001 >44101 >44201 >44301 >44401 >44501 >44601 >44701 >44801 >44901 >45001 >45101 >45201 >45301 >45401 >45501 >45601 >45701 >45801 >45901 >46001 >46101 >46201 >46301 >46401 >46501 >46601 >46701 >46801 >46901 >47001 >47101 >47201 >47301 >47401 >47501 >47601 >47701 >47801 >47901 >48001 >48101 >48201 >48301 >48401 >48501 >48601 >48701 >48801 >48901 >49001 >49101 >49201 >49301 >49401 >49501 >49601 >49701 >49801 >49901 >50001 >50101 >50201 >50301 >50401 >50501 >50601 >50701 >50801 >50901 >51001 >51101 >51201 >51301 >51401 >51501 >51601 >51701 >51801 >51901 >52001 >52101 >52201 >52301 >52401 >52501 >52601 >52701 >52801 >52901 >53001 >53101 >53201 >53301 >53401 >53501 >53601 >53701 >53801 >53901 >54001 >54101 >54201 >54301 >54401 >54501 >54601 >54701 >54801 >54901 >55001 >55101 >55201 >55301 >55401 >55501 >55601 >55701 >55801 >55901 >56001 >56101 >56201 >56301 >56401 >56501 >56601 >56701 >56801 >56901 >57001 >57101 >57201 >57301 >57401 >57501 >57601 >57701 >57801 >57901 >58001 >58101 >58201 >58301 >58401 >58501 >58601 >58701 >58801 >58901 >59001 >59101 >59201 >59301 >59401 >59501 >59601 >59701 >59801 >59901 >60001 >60101 >60201 >60301 >60401 >60501 >60601 >60701 >60801 >60901 >61001 >61101 >61201 >61301 >61401 >61501 >61601 >61701 >61801 >61901 >62001 >62101 >62201 >62301 >62401 >62501 >62601 >62701 >62801 >62901 >63001 >63101 >63201 >63301 >63401 >63501 >63601 >63701 >63801 >63901 >64001 >64101 >64201 >64301 >64401 >64501 >64601 >64701 >64801 >64901 >65001 >65101 >65201 >65301 >65401 >65501 >65601 >65701 >65801 >65901 >66001 >66101 >66201 >66301 >66401 >66501 >66601 >66701 >66801 >66901 >67001 >67101 >67201 >67301 >67401 >67501 >67601 >67701 >67801 >67901 >68001 >68101 >68201 >68301 >68401 >68501 >68601 >68701 >68801 >68901 >69001 >69101 >69201 >69301 >69401 >69501 >69601 >69701 >69801 >69901 >70001 >70101 >70201 >70301 >70401 >70501 >70601 >70701 >70801 >70901 >71001 >71101 >71201 >71301 >71401 >71501 >71601 >71701 >71801 >71901 >72001 >72101 >72201 >72301 >72401 >72501 >72601 >72701 >72801 >72901 >73001 >73101 >73201 >73301 >73401 >73501 >73601 >73701 >73801 >73901 >74001 >74101 >74201 >74301 >74401 >74501 >74601 >74701 >74801 >74901 >75001 >75101 >75201 >75301 >75401 >75501 >75601 >75701 >75801 >75901 >76001 >76101 >76201 >76301 >76401 >76501 >76601 >76701 >76801 >76901 >77001 >77101 >77201 >77301 >77401 >77501 >77601 >77701 >77801 >77901 >78001 >78101 >78201 >78301 >78401 >78501 >78601 >78701 >78801 >78901 >79001 >79101 >79201 >79301 >79401 >79501 >79601 >79701 >79801 >79901 >80001 >80101 >80201 >80301 >80401 >80501 >80601 >80701 >80801 >80901 >81001 >81101 >81201 >81301 >81401 >81501 >81601 >81701 >81801 >81901 >82001 >82101 >82201 >82301 >82401 >82501 >82601 >82701 >82801 >82901 >83001 >83101 >83201 >83301 >83401 >83501 >83601 >83701 >83801 >83901 >84001 >84101 >84201 >84301 >84401 >84501 >84601 >84701 >84801 >84901 >85001 >85101 >85201 >85301 >85401 >85501 >85601 >85701 >85801 >85901 >86001 >86101 >86201 >86301 >86401 >86501 >86601 >86701 >86801 >86901 >87001 >87101 >87201 >87301 >87401 >87501 >87601 >87701 >87801 >87901 >88001 >88101 >88201 >88301 >88401 >88501 >88601 >88701 >88801 >88901 >89001 >89101 >89201 >89301 >89401 >89501 >89601 >89701 >89801 >89901 >90001 >90101 >90201 >90301 >90401 >90501 >90601 >90701 >90801 >90901 >91001 >91101 >91201 >91301 >91401 >91501 >91601 >91701 >91801 >91901 >92001 >92101 >92201 >92301 >92401 >92501 >92601 >92701 >92801 >92901 >93001 >93101 >93201 >93301 >93401 >93501 >93601 >93701 >93801 >93901 >94001 >94101 >94201 >94301 >94401 >94501 >94601 >94701 >94801 >94901 >95001 >95101 >95201 >95301 >95401 >95501 >95601 >95701 >95801 >95901 >96001 >96101 >96201 >96301 >96401 >96501 >96601 >96701 >96801 >96901 >97001 >97101 >97201 >97301 >97401 >97501 >97601 >97701 >97801 >97901 >98001 >98101 >98201 >98301 >98401 >98501 >98601 >98701 >98801 >98901 >99001 >99101 >99201 >99301 >99401 >99501 >99601 >99701 >99801 >99901 Wall time: 9min 50s\n"
     ]
    }
   ],
   "source": [
    "%%time\n",
    "\n",
    "myResults=pd.DataFrame()\n",
    "\n",
    "for x in range(1,100000,100):\n",
    "    myResults=myResults.append(find_amicableNumbers(x, x+100))\n",
    "    print(f'>{x} ', end='')\n",
    "\n",
    "myResults.to_csv('PerfectAndAmicableNumbers2.txt', index=False)"
   ]
  },
  {
   "cell_type": "code",
   "execution_count": 17,
   "metadata": {},
   "outputs": [],
   "source": [
    "def find_amicableNumbers(startRange, endRange):\n",
    "\n",
    "    myFactors=pd.DataFrame({'Number':np.arange(startRange,endRange)})\n",
    "\n",
    "    myFactors['Sum']=myFactors.Number.apply(properDivisors).apply(sum)\n",
    "    myFactors['Perfect']=myFactors.Number==myFactors.Sum\n",
    "    myFactors['Amicable']=np.where(~myFactors.Perfect, myFactors.Number==myFactors.Sum.apply(properDivisors).apply(sum),False)\n",
    "\n",
    "#     print(f'There are {myFactors[myFactors.Amicable].Amicable.count()/2:.0f} amicable numbers\\n')\n",
    "#     myFactors[myFactors.Amicable][['Number', 'Sum']]\n",
    "\n",
    "    return myFactors[myFactors.Perfect | myFactors.Amicable]"
   ]
  },
  {
   "cell_type": "code",
   "execution_count": 23,
   "metadata": {},
   "outputs": [
    {
     "name": "stdout",
     "output_type": "stream",
     "text": [
      "Number,Sum,Perfect,Amicable\n",
      "6,6,True,False\n",
      "28,28,True,False\n",
      "220,284,False,True\n",
      "284,220,False,True\n",
      "496,496,True,False\n"
     ]
    }
   ],
   "source": [
    "!type PerfectAndAmicableNumbers2.txt"
   ]
  },
  {
   "cell_type": "code",
   "execution_count": null,
   "metadata": {},
   "outputs": [],
   "source": []
  },
  {
   "cell_type": "code",
   "execution_count": null,
   "metadata": {},
   "outputs": [],
   "source": []
  },
  {
   "cell_type": "code",
   "execution_count": null,
   "metadata": {},
   "outputs": [],
   "source": []
  }
 ],
 "metadata": {
  "kernelspec": {
   "display_name": "Python 3",
   "language": "python",
   "name": "python3"
  },
  "language_info": {
   "codemirror_mode": {
    "name": "ipython",
    "version": 3
   },
   "file_extension": ".py",
   "mimetype": "text/x-python",
   "name": "python",
   "nbconvert_exporter": "python",
   "pygments_lexer": "ipython3",
   "version": "3.6.8"
  }
 },
 "nbformat": 4,
 "nbformat_minor": 4
}

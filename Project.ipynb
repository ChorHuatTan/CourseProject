{
 "cells": [
  {
   "cell_type": "markdown",
   "metadata": {},
   "source": [
    "### Getting and Cleaning Data\n",
    "### Course Project"
   ]
  },
  {
   "cell_type": "code",
   "execution_count": 12,
   "metadata": {},
   "outputs": [],
   "source": [
    "# use the group_by, summerise and pipeline functions\n",
    "library(dplyr)\n",
    "\n",
    "# use read.table with pre-defined column names options (\"col.names\") to load all datasets\n",
    "# reading features dataset\n",
    "featuresDf<-read.table('data\\\\features.txt',col.names=c('No','Features'))\n",
    "\n",
    "# reading activities dataset\n",
    "activitiesDf<-read.table('data\\\\activity_labels.txt', col.names=c('No', 'Activities'))\n",
    "\n",
    "# Prepare list of features as to be used as column names for measurement datasets\n",
    "# convert factor to character\n",
    "featureNames  <- featuresDf$Features\n",
    "\n",
    "# make activity labels lowercase\n",
    "activityNames <- tolower(activitiesDf$Activities)\n",
    "\n",
    "# reading training datasets\n",
    "trainMeasurementsDf <- read.table('data\\\\X_train.txt', col.names=featureNames)\n",
    "trainActivitiesDf   <- read.table('data\\\\y_train.txt', col.names='Activity') \n",
    "trainVolunteersDf   <- read.table('data\\\\subject_train.txt', col.names='VolunteerNo')\n",
    "\n",
    "# reading testing datasets\n",
    "testMeasurementsDf <- read.table('data\\\\X_test.txt', col.names=featureNames)\n",
    "testActivitiesDf   <- read.table('data\\\\y_test.txt', col.names='Activity')\n",
    "testVolunteersDf   <- read.table('data\\\\subject_test.txt', col.names='VolunteerNo')"
   ]
  },
  {
   "cell_type": "code",
   "execution_count": null,
   "metadata": {},
   "outputs": [],
   "source": []
  },
  {
   "cell_type": "markdown",
   "metadata": {},
   "source": [
    "__Step # 1 - merge train & test datasets into a large dataset__"
   ]
  },
  {
   "cell_type": "code",
   "execution_count": 13,
   "metadata": {},
   "outputs": [],
   "source": [
    "# combining all the associated training & testing datasets (rows) using rbind()\n",
    "combinedMeasurementsDf<-rbind(trainMeasurementsDf, testMeasurementsDf)\n",
    "combinedActivitiesDf <-rbind(trainActivitiesDf, testActivitiesDf)\n",
    "combinedVolunteersDf <-rbind(trainVolunteersDf, testVolunteersDf)"
   ]
  },
  {
   "cell_type": "code",
   "execution_count": 14,
   "metadata": {},
   "outputs": [],
   "source": [
    "# combining all the associated datasets (columns) into one large dataset using cbind\n",
    "combinedDf<-cbind(combinedVolunteersDf, combinedActivitiesDf, combinedMeasurementsDf)"
   ]
  },
  {
   "cell_type": "code",
   "execution_count": null,
   "metadata": {},
   "outputs": [],
   "source": []
  },
  {
   "cell_type": "markdown",
   "metadata": {},
   "source": [
    "__Step 2 - extract mean & std from measurement dataset__"
   ]
  },
  {
   "cell_type": "code",
   "execution_count": 15,
   "metadata": {},
   "outputs": [],
   "source": [
    "# extract all the mean and std columns into new extractedDf per instructions\n",
    "# copy VolunteerNo & Activity columns as well\n",
    "extractedDf <- combinedDf[, grep('VolunteerNo|Activity|std|mean', names(combinedDf))]"
   ]
  },
  {
   "cell_type": "code",
   "execution_count": null,
   "metadata": {},
   "outputs": [],
   "source": []
  },
  {
   "cell_type": "markdown",
   "metadata": {},
   "source": [
    "__Step 3 - Uses descriptive activity names to name the activities in the data set__"
   ]
  },
  {
   "cell_type": "code",
   "execution_count": 16,
   "metadata": {},
   "outputs": [],
   "source": [
    "# make \"Activity\" column of combinedDf from \"integer\" to \"factor\"\n",
    "extractedDf$Activity <- factor(extractedDf$Activity)\n",
    "\n",
    "# assign the levels with activityNames\n",
    "levels(extractedDf$Activity) <- activityNames"
   ]
  },
  {
   "cell_type": "code",
   "execution_count": null,
   "metadata": {},
   "outputs": [],
   "source": []
  },
  {
   "cell_type": "markdown",
   "metadata": {},
   "source": [
    "__Step 4 - Appropriately labels the data set with descriptive variable names__"
   ]
  },
  {
   "cell_type": "code",
   "execution_count": 17,
   "metadata": {},
   "outputs": [],
   "source": [
    "# the followings are ways to make the variable names more descriptive\n",
    "# 1. expand variable prefixed \"t\" and \"f\" to more descriptive \"time\" and \"freq\" respectively \n",
    "# 2. remove the creptic (.-()) characters from variable names\n",
    "# 3. captilise the first character of \"mean\" & \"std\" to make them more prominent and readable\n",
    "\n",
    "# use REGEX to replace t with time & f with freq and remove \".-()\"  in the variable names\n",
    "featureNames<-names(extractedDf)\n",
    "featureNames  %>% sub('^[t]','time', .)  %>% sub('^[f]', 'freq', .)  %>% sub('mean', 'Mean', .) %>% sub('std', 'Std', .) %>% gsub('[-|().]', '', .) ->featureNames"
   ]
  },
  {
   "cell_type": "code",
   "execution_count": 18,
   "metadata": {},
   "outputs": [],
   "source": [
    "# update the variable names on the extractedDf\n",
    "names(extractedDf) <- featureNames"
   ]
  },
  {
   "cell_type": "code",
   "execution_count": null,
   "metadata": {},
   "outputs": [],
   "source": []
  },
  {
   "cell_type": "markdown",
   "metadata": {},
   "source": [
    "__Step 5 - From the data set in step 4, creates a second, independent tidy data set with the average of each variable for each activity and each subject.__"
   ]
  },
  {
   "cell_type": "code",
   "execution_count": 19,
   "metadata": {},
   "outputs": [],
   "source": [
    "# use group_by and summerise functions to compute the mean of every activity for each volunteer\n",
    "extractedDf %>% group_by(VolunteerNo, Activity) %>% summarise_all(list(Avg='mean')) -> tidyDf"
   ]
  },
  {
   "cell_type": "code",
   "execution_count": 22,
   "metadata": {},
   "outputs": [],
   "source": [
    "# create tidy.txt file\n",
    "tidyDf %>% write.table(file='data\\\\tidy.txt', row.names=FALSE)"
   ]
  },
  {
   "cell_type": "code",
   "execution_count": null,
   "metadata": {},
   "outputs": [],
   "source": []
  }
 ],
 "metadata": {
  "kernelspec": {
   "display_name": "R",
   "language": "R",
   "name": "ir"
  },
  "language_info": {
   "codemirror_mode": "r",
   "file_extension": ".r",
   "mimetype": "text/x-r-source",
   "name": "R",
   "pygments_lexer": "r",
   "version": "3.6.3"
  }
 },
 "nbformat": 4,
 "nbformat_minor": 2
}

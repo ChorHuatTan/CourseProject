{
 "cells": [
  {
   "cell_type": "markdown",
   "metadata": {},
   "source": [
    "### Coursera Course Project\n"
   ]
  },
  {
   "cell_type": "code",
   "execution_count": 1,
   "metadata": {},
   "outputs": [
    {
     "name": "stderr",
     "output_type": "stream",
     "text": [
      "\n",
      "Attaching package: 'dplyr'\n",
      "\n",
      "The following objects are masked from 'package:stats':\n",
      "\n",
      "    filter, lag\n",
      "\n",
      "The following objects are masked from 'package:base':\n",
      "\n",
      "    intersect, setdiff, setequal, union\n",
      "\n"
     ]
    }
   ],
   "source": [
    "library(dplyr)\n",
    "\n",
    "# reading features dataset\n",
    "featuresDf<-read.table('d:\\\\jupyter\\\\R\\\\data\\\\UCI_HAR_Dataset\\\\features.txt',col.names=c('No','Features'))\n",
    "\n",
    "# reading activities dataset\n",
    "activitiesDf<-read.table('d:\\\\jupyter\\\\R\\\\data\\\\UCI_HAR_Dataset\\\\activity_labels.txt', col.names=c('No', 'Activities'))\n",
    "\n",
    "# Prepare list of features as header for data files\n",
    "# convert factor to character\n",
    "featureNames  <- featuresDf$Features\n",
    "\n",
    "# make activity labels lowercases\n",
    "activityNames <- tolower(activitiesDf$Activities)\n",
    "\n",
    "# reading training datasets\n",
    "trainMeasurementsDf <- read.table('d:\\\\jupyter\\\\R\\\\data\\\\UCI_HAR_Dataset\\\\train\\\\X_train.txt', col.names=featureNames)\n",
    "trainActivitiesDf   <- read.table('d:\\\\jupyter\\\\R\\\\data\\\\UCI_HAR_Dataset\\\\train\\\\y_train.txt', col.names='Activity') \n",
    "trainVolunteersDf   <- read.table('d:\\\\jupyter\\\\R\\\\data\\\\UCI_HAR_Dataset\\\\train\\\\subject_train.txt', col.names='VolunteerNo')\n",
    "\n",
    "# reading testing datasets\n",
    "testMeasurementsDf <- read.table('d:\\\\jupyter\\\\R\\\\data\\\\UCI_HAR_Dataset\\\\test\\\\X_test.txt', col.names=featureNames)\n",
    "testActivitiesDf   <- read.table('d:\\\\jupyter\\\\R\\\\data\\\\UCI_HAR_Dataset\\\\test\\\\y_test.txt', col.names='Activity')\n",
    "testVolunteersDf   <- read.table('d:\\\\jupyter\\\\R\\\\data\\\\UCI_HAR_Dataset\\\\test\\\\subject_test.txt', col.names='VolunteerNo')"
   ]
  },
  {
   "cell_type": "code",
   "execution_count": null,
   "metadata": {},
   "outputs": [],
   "source": []
  },
  {
   "cell_type": "markdown",
   "metadata": {},
   "source": [
    "__Step # 1 - merge into a large dataset__"
   ]
  },
  {
   "cell_type": "code",
   "execution_count": 2,
   "metadata": {},
   "outputs": [],
   "source": [
    "# combining all the associated training & testing datasets\n",
    "combinedMeasurementsDf<-rbind(trainMeasurementsDf, testMeasurementsDf)\n",
    "combinedActivitiesDf <-rbind(trainActivitiesDf, testActivitiesDf)\n",
    "combinedVolunteersDf <-rbind(trainVolunteersDf, testVolunteersDf)"
   ]
  },
  {
   "cell_type": "code",
   "execution_count": 3,
   "metadata": {},
   "outputs": [],
   "source": [
    "# combining all the associated datasets into one large dataset\n",
    "combinedDf<-cbind(combinedVolunteersDf, combinedActivitiesDf, combinedMeasurementsDf)"
   ]
  },
  {
   "cell_type": "code",
   "execution_count": null,
   "metadata": {},
   "outputs": [],
   "source": []
  },
  {
   "cell_type": "markdown",
   "metadata": {},
   "source": [
    "__Step 2 - extract mean & std from measurement__"
   ]
  },
  {
   "cell_type": "code",
   "execution_count": 4,
   "metadata": {},
   "outputs": [],
   "source": [
    "# extract all the means and stds columns into new extractedDf \n",
    "# copy VolunteerNo & Activity columns as well\n",
    "\n",
    "extractedDf<-combinedDf[,grep('VolunteerNo|Activity|std|mean', names(combinedDf))]"
   ]
  },
  {
   "cell_type": "code",
   "execution_count": 5,
   "metadata": {},
   "outputs": [
    {
     "data": {
      "text/html": [
       "<table>\n",
       "<caption>A data.frame: 6 × 81</caption>\n",
       "<thead>\n",
       "\t<tr><th></th><th scope=col>VolunteerNo</th><th scope=col>Activity</th><th scope=col>tBodyAcc.mean...X</th><th scope=col>tBodyAcc.mean...Y</th><th scope=col>tBodyAcc.mean...Z</th><th scope=col>tBodyAcc.std...X</th><th scope=col>tBodyAcc.std...Y</th><th scope=col>tBodyAcc.std...Z</th><th scope=col>tGravityAcc.mean...X</th><th scope=col>tGravityAcc.mean...Y</th><th scope=col>...</th><th scope=col>fBodyAccMag.meanFreq..</th><th scope=col>fBodyBodyAccJerkMag.mean..</th><th scope=col>fBodyBodyAccJerkMag.std..</th><th scope=col>fBodyBodyAccJerkMag.meanFreq..</th><th scope=col>fBodyBodyGyroMag.mean..</th><th scope=col>fBodyBodyGyroMag.std..</th><th scope=col>fBodyBodyGyroMag.meanFreq..</th><th scope=col>fBodyBodyGyroJerkMag.mean..</th><th scope=col>fBodyBodyGyroJerkMag.std..</th><th scope=col>fBodyBodyGyroJerkMag.meanFreq..</th></tr>\n",
       "\t<tr><th></th><th scope=col>&lt;int&gt;</th><th scope=col>&lt;int&gt;</th><th scope=col>&lt;dbl&gt;</th><th scope=col>&lt;dbl&gt;</th><th scope=col>&lt;dbl&gt;</th><th scope=col>&lt;dbl&gt;</th><th scope=col>&lt;dbl&gt;</th><th scope=col>&lt;dbl&gt;</th><th scope=col>&lt;dbl&gt;</th><th scope=col>&lt;dbl&gt;</th><th scope=col>...</th><th scope=col>&lt;dbl&gt;</th><th scope=col>&lt;dbl&gt;</th><th scope=col>&lt;dbl&gt;</th><th scope=col>&lt;dbl&gt;</th><th scope=col>&lt;dbl&gt;</th><th scope=col>&lt;dbl&gt;</th><th scope=col>&lt;dbl&gt;</th><th scope=col>&lt;dbl&gt;</th><th scope=col>&lt;dbl&gt;</th><th scope=col>&lt;dbl&gt;</th></tr>\n",
       "</thead>\n",
       "<tbody>\n",
       "\t<tr><th scope=row>1</th><td>1</td><td>5</td><td>0.2885845</td><td>-0.02029417</td><td>-0.1329051</td><td>-0.9952786</td><td>-0.9831106</td><td>-0.9135264</td><td>0.9633961</td><td>-0.1408397</td><td>...</td><td>-0.08843612</td><td>-0.9937257</td><td>-0.9937550</td><td>0.3469885</td><td>-0.9801349</td><td>-0.9613094</td><td>-0.1289889</td><td>-0.9919904</td><td>-0.9906975</td><td>-0.07432303</td></tr>\n",
       "\t<tr><th scope=row>2</th><td>1</td><td>5</td><td>0.2784188</td><td>-0.01641057</td><td>-0.1235202</td><td>-0.9982453</td><td>-0.9753002</td><td>-0.9603220</td><td>0.9665611</td><td>-0.1415513</td><td>...</td><td>-0.04414989</td><td>-0.9903355</td><td>-0.9919603</td><td>0.5320605</td><td>-0.9882956</td><td>-0.9833219</td><td>-0.2719585</td><td>-0.9958539</td><td>-0.9963995</td><td> 0.15807454</td></tr>\n",
       "\t<tr><th scope=row>3</th><td>1</td><td>5</td><td>0.2796531</td><td>-0.01946716</td><td>-0.1134617</td><td>-0.9953796</td><td>-0.9671870</td><td>-0.9789440</td><td>0.9668781</td><td>-0.1420098</td><td>...</td><td> 0.25789914</td><td>-0.9892801</td><td>-0.9908667</td><td>0.6607950</td><td>-0.9892548</td><td>-0.9860277</td><td>-0.2127279</td><td>-0.9950305</td><td>-0.9951274</td><td> 0.41450281</td></tr>\n",
       "\t<tr><th scope=row>4</th><td>1</td><td>5</td><td>0.2791739</td><td>-0.02620065</td><td>-0.1232826</td><td>-0.9960915</td><td>-0.9834027</td><td>-0.9906751</td><td>0.9676152</td><td>-0.1439765</td><td>...</td><td> 0.07358150</td><td>-0.9927689</td><td>-0.9916998</td><td>0.6789213</td><td>-0.9894128</td><td>-0.9878358</td><td>-0.0356842</td><td>-0.9952207</td><td>-0.9952369</td><td> 0.40457253</td></tr>\n",
       "\t<tr><th scope=row>5</th><td>1</td><td>5</td><td>0.2766288</td><td>-0.01656965</td><td>-0.1153619</td><td>-0.9981386</td><td>-0.9808173</td><td>-0.9904816</td><td>0.9682244</td><td>-0.1487502</td><td>...</td><td> 0.39431033</td><td>-0.9955228</td><td>-0.9943890</td><td>0.5590577</td><td>-0.9914330</td><td>-0.9890594</td><td>-0.2735820</td><td>-0.9950928</td><td>-0.9954648</td><td> 0.08775301</td></tr>\n",
       "\t<tr><th scope=row>6</th><td>1</td><td>5</td><td>0.2771988</td><td>-0.01009785</td><td>-0.1051373</td><td>-0.9973350</td><td>-0.9904868</td><td>-0.9954200</td><td>0.9679482</td><td>-0.1482100</td><td>...</td><td> 0.43796212</td><td>-0.9947329</td><td>-0.9951562</td><td>0.2469096</td><td>-0.9905000</td><td>-0.9858609</td><td>-0.2973291</td><td>-0.9951433</td><td>-0.9952387</td><td> 0.01995331</td></tr>\n",
       "</tbody>\n",
       "</table>\n"
      ],
      "text/latex": [
       "A data.frame: 6 × 81\n",
       "\\begin{tabular}{r|lllllllllllllllllllll}\n",
       "  & VolunteerNo & Activity & tBodyAcc.mean...X & tBodyAcc.mean...Y & tBodyAcc.mean...Z & tBodyAcc.std...X & tBodyAcc.std...Y & tBodyAcc.std...Z & tGravityAcc.mean...X & tGravityAcc.mean...Y & ... & fBodyAccMag.meanFreq.. & fBodyBodyAccJerkMag.mean.. & fBodyBodyAccJerkMag.std.. & fBodyBodyAccJerkMag.meanFreq.. & fBodyBodyGyroMag.mean.. & fBodyBodyGyroMag.std.. & fBodyBodyGyroMag.meanFreq.. & fBodyBodyGyroJerkMag.mean.. & fBodyBodyGyroJerkMag.std.. & fBodyBodyGyroJerkMag.meanFreq..\\\\\n",
       "  & <int> & <int> & <dbl> & <dbl> & <dbl> & <dbl> & <dbl> & <dbl> & <dbl> & <dbl> & ... & <dbl> & <dbl> & <dbl> & <dbl> & <dbl> & <dbl> & <dbl> & <dbl> & <dbl> & <dbl>\\\\\n",
       "\\hline\n",
       "\t1 & 1 & 5 & 0.2885845 & -0.02029417 & -0.1329051 & -0.9952786 & -0.9831106 & -0.9135264 & 0.9633961 & -0.1408397 & ... & -0.08843612 & -0.9937257 & -0.9937550 & 0.3469885 & -0.9801349 & -0.9613094 & -0.1289889 & -0.9919904 & -0.9906975 & -0.07432303\\\\\n",
       "\t2 & 1 & 5 & 0.2784188 & -0.01641057 & -0.1235202 & -0.9982453 & -0.9753002 & -0.9603220 & 0.9665611 & -0.1415513 & ... & -0.04414989 & -0.9903355 & -0.9919603 & 0.5320605 & -0.9882956 & -0.9833219 & -0.2719585 & -0.9958539 & -0.9963995 &  0.15807454\\\\\n",
       "\t3 & 1 & 5 & 0.2796531 & -0.01946716 & -0.1134617 & -0.9953796 & -0.9671870 & -0.9789440 & 0.9668781 & -0.1420098 & ... &  0.25789914 & -0.9892801 & -0.9908667 & 0.6607950 & -0.9892548 & -0.9860277 & -0.2127279 & -0.9950305 & -0.9951274 &  0.41450281\\\\\n",
       "\t4 & 1 & 5 & 0.2791739 & -0.02620065 & -0.1232826 & -0.9960915 & -0.9834027 & -0.9906751 & 0.9676152 & -0.1439765 & ... &  0.07358150 & -0.9927689 & -0.9916998 & 0.6789213 & -0.9894128 & -0.9878358 & -0.0356842 & -0.9952207 & -0.9952369 &  0.40457253\\\\\n",
       "\t5 & 1 & 5 & 0.2766288 & -0.01656965 & -0.1153619 & -0.9981386 & -0.9808173 & -0.9904816 & 0.9682244 & -0.1487502 & ... &  0.39431033 & -0.9955228 & -0.9943890 & 0.5590577 & -0.9914330 & -0.9890594 & -0.2735820 & -0.9950928 & -0.9954648 &  0.08775301\\\\\n",
       "\t6 & 1 & 5 & 0.2771988 & -0.01009785 & -0.1051373 & -0.9973350 & -0.9904868 & -0.9954200 & 0.9679482 & -0.1482100 & ... &  0.43796212 & -0.9947329 & -0.9951562 & 0.2469096 & -0.9905000 & -0.9858609 & -0.2973291 & -0.9951433 & -0.9952387 &  0.01995331\\\\\n",
       "\\end{tabular}\n"
      ],
      "text/markdown": [
       "\n",
       "A data.frame: 6 × 81\n",
       "\n",
       "| <!--/--> | VolunteerNo &lt;int&gt; | Activity &lt;int&gt; | tBodyAcc.mean...X &lt;dbl&gt; | tBodyAcc.mean...Y &lt;dbl&gt; | tBodyAcc.mean...Z &lt;dbl&gt; | tBodyAcc.std...X &lt;dbl&gt; | tBodyAcc.std...Y &lt;dbl&gt; | tBodyAcc.std...Z &lt;dbl&gt; | tGravityAcc.mean...X &lt;dbl&gt; | tGravityAcc.mean...Y &lt;dbl&gt; | ... ... | fBodyAccMag.meanFreq.. &lt;dbl&gt; | fBodyBodyAccJerkMag.mean.. &lt;dbl&gt; | fBodyBodyAccJerkMag.std.. &lt;dbl&gt; | fBodyBodyAccJerkMag.meanFreq.. &lt;dbl&gt; | fBodyBodyGyroMag.mean.. &lt;dbl&gt; | fBodyBodyGyroMag.std.. &lt;dbl&gt; | fBodyBodyGyroMag.meanFreq.. &lt;dbl&gt; | fBodyBodyGyroJerkMag.mean.. &lt;dbl&gt; | fBodyBodyGyroJerkMag.std.. &lt;dbl&gt; | fBodyBodyGyroJerkMag.meanFreq.. &lt;dbl&gt; |\n",
       "|---|---|---|---|---|---|---|---|---|---|---|---|---|---|---|---|---|---|---|---|---|---|\n",
       "| 1 | 1 | 5 | 0.2885845 | -0.02029417 | -0.1329051 | -0.9952786 | -0.9831106 | -0.9135264 | 0.9633961 | -0.1408397 | ... | -0.08843612 | -0.9937257 | -0.9937550 | 0.3469885 | -0.9801349 | -0.9613094 | -0.1289889 | -0.9919904 | -0.9906975 | -0.07432303 |\n",
       "| 2 | 1 | 5 | 0.2784188 | -0.01641057 | -0.1235202 | -0.9982453 | -0.9753002 | -0.9603220 | 0.9665611 | -0.1415513 | ... | -0.04414989 | -0.9903355 | -0.9919603 | 0.5320605 | -0.9882956 | -0.9833219 | -0.2719585 | -0.9958539 | -0.9963995 |  0.15807454 |\n",
       "| 3 | 1 | 5 | 0.2796531 | -0.01946716 | -0.1134617 | -0.9953796 | -0.9671870 | -0.9789440 | 0.9668781 | -0.1420098 | ... |  0.25789914 | -0.9892801 | -0.9908667 | 0.6607950 | -0.9892548 | -0.9860277 | -0.2127279 | -0.9950305 | -0.9951274 |  0.41450281 |\n",
       "| 4 | 1 | 5 | 0.2791739 | -0.02620065 | -0.1232826 | -0.9960915 | -0.9834027 | -0.9906751 | 0.9676152 | -0.1439765 | ... |  0.07358150 | -0.9927689 | -0.9916998 | 0.6789213 | -0.9894128 | -0.9878358 | -0.0356842 | -0.9952207 | -0.9952369 |  0.40457253 |\n",
       "| 5 | 1 | 5 | 0.2766288 | -0.01656965 | -0.1153619 | -0.9981386 | -0.9808173 | -0.9904816 | 0.9682244 | -0.1487502 | ... |  0.39431033 | -0.9955228 | -0.9943890 | 0.5590577 | -0.9914330 | -0.9890594 | -0.2735820 | -0.9950928 | -0.9954648 |  0.08775301 |\n",
       "| 6 | 1 | 5 | 0.2771988 | -0.01009785 | -0.1051373 | -0.9973350 | -0.9904868 | -0.9954200 | 0.9679482 | -0.1482100 | ... |  0.43796212 | -0.9947329 | -0.9951562 | 0.2469096 | -0.9905000 | -0.9858609 | -0.2973291 | -0.9951433 | -0.9952387 |  0.01995331 |\n",
       "\n"
      ],
      "text/plain": [
       "  VolunteerNo Activity tBodyAcc.mean...X tBodyAcc.mean...Y tBodyAcc.mean...Z tBodyAcc.std...X tBodyAcc.std...Y tBodyAcc.std...Z\n",
       "1 1           5        0.2885845         -0.02029417       -0.1329051        -0.9952786       -0.9831106       -0.9135264      \n",
       "2 1           5        0.2784188         -0.01641057       -0.1235202        -0.9982453       -0.9753002       -0.9603220      \n",
       "3 1           5        0.2796531         -0.01946716       -0.1134617        -0.9953796       -0.9671870       -0.9789440      \n",
       "4 1           5        0.2791739         -0.02620065       -0.1232826        -0.9960915       -0.9834027       -0.9906751      \n",
       "5 1           5        0.2766288         -0.01656965       -0.1153619        -0.9981386       -0.9808173       -0.9904816      \n",
       "6 1           5        0.2771988         -0.01009785       -0.1051373        -0.9973350       -0.9904868       -0.9954200      \n",
       "  tGravityAcc.mean...X tGravityAcc.mean...Y ... fBodyAccMag.meanFreq.. fBodyBodyAccJerkMag.mean.. fBodyBodyAccJerkMag.std..\n",
       "1 0.9633961            -0.1408397           ... -0.08843612            -0.9937257                 -0.9937550               \n",
       "2 0.9665611            -0.1415513           ... -0.04414989            -0.9903355                 -0.9919603               \n",
       "3 0.9668781            -0.1420098           ...  0.25789914            -0.9892801                 -0.9908667               \n",
       "4 0.9676152            -0.1439765           ...  0.07358150            -0.9927689                 -0.9916998               \n",
       "5 0.9682244            -0.1487502           ...  0.39431033            -0.9955228                 -0.9943890               \n",
       "6 0.9679482            -0.1482100           ...  0.43796212            -0.9947329                 -0.9951562               \n",
       "  fBodyBodyAccJerkMag.meanFreq.. fBodyBodyGyroMag.mean.. fBodyBodyGyroMag.std.. fBodyBodyGyroMag.meanFreq..\n",
       "1 0.3469885                      -0.9801349              -0.9613094             -0.1289889                 \n",
       "2 0.5320605                      -0.9882956              -0.9833219             -0.2719585                 \n",
       "3 0.6607950                      -0.9892548              -0.9860277             -0.2127279                 \n",
       "4 0.6789213                      -0.9894128              -0.9878358             -0.0356842                 \n",
       "5 0.5590577                      -0.9914330              -0.9890594             -0.2735820                 \n",
       "6 0.2469096                      -0.9905000              -0.9858609             -0.2973291                 \n",
       "  fBodyBodyGyroJerkMag.mean.. fBodyBodyGyroJerkMag.std.. fBodyBodyGyroJerkMag.meanFreq..\n",
       "1 -0.9919904                  -0.9906975                 -0.07432303                    \n",
       "2 -0.9958539                  -0.9963995                  0.15807454                    \n",
       "3 -0.9950305                  -0.9951274                  0.41450281                    \n",
       "4 -0.9952207                  -0.9952369                  0.40457253                    \n",
       "5 -0.9950928                  -0.9954648                  0.08775301                    \n",
       "6 -0.9951433                  -0.9952387                  0.01995331                    "
      ]
     },
     "metadata": {},
     "output_type": "display_data"
    }
   ],
   "source": [
    "head(extractedDf)"
   ]
  },
  {
   "cell_type": "markdown",
   "metadata": {},
   "source": [
    "__Step 3 - Uses descriptive activity names to name the activities in the data set__"
   ]
  },
  {
   "cell_type": "code",
   "execution_count": 6,
   "metadata": {},
   "outputs": [],
   "source": [
    "# make \"Activity\" column of combinedDf as factor\n",
    "extractedDf$Activity <- factor(extractedDf$Activity)\n",
    "\n",
    "# assign the levels with activityNames\n",
    "levels(extractedDf$Activity) <- activityNames"
   ]
  },
  {
   "cell_type": "code",
   "execution_count": 7,
   "metadata": {},
   "outputs": [
    {
     "data": {
      "text/html": [
       "<table>\n",
       "<caption>A data.frame: 6 × 81</caption>\n",
       "<thead>\n",
       "\t<tr><th></th><th scope=col>VolunteerNo</th><th scope=col>Activity</th><th scope=col>tBodyAcc.mean...X</th><th scope=col>tBodyAcc.mean...Y</th><th scope=col>tBodyAcc.mean...Z</th><th scope=col>tBodyAcc.std...X</th><th scope=col>tBodyAcc.std...Y</th><th scope=col>tBodyAcc.std...Z</th><th scope=col>tGravityAcc.mean...X</th><th scope=col>tGravityAcc.mean...Y</th><th scope=col>...</th><th scope=col>fBodyAccMag.meanFreq..</th><th scope=col>fBodyBodyAccJerkMag.mean..</th><th scope=col>fBodyBodyAccJerkMag.std..</th><th scope=col>fBodyBodyAccJerkMag.meanFreq..</th><th scope=col>fBodyBodyGyroMag.mean..</th><th scope=col>fBodyBodyGyroMag.std..</th><th scope=col>fBodyBodyGyroMag.meanFreq..</th><th scope=col>fBodyBodyGyroJerkMag.mean..</th><th scope=col>fBodyBodyGyroJerkMag.std..</th><th scope=col>fBodyBodyGyroJerkMag.meanFreq..</th></tr>\n",
       "\t<tr><th></th><th scope=col>&lt;int&gt;</th><th scope=col>&lt;fct&gt;</th><th scope=col>&lt;dbl&gt;</th><th scope=col>&lt;dbl&gt;</th><th scope=col>&lt;dbl&gt;</th><th scope=col>&lt;dbl&gt;</th><th scope=col>&lt;dbl&gt;</th><th scope=col>&lt;dbl&gt;</th><th scope=col>&lt;dbl&gt;</th><th scope=col>&lt;dbl&gt;</th><th scope=col>...</th><th scope=col>&lt;dbl&gt;</th><th scope=col>&lt;dbl&gt;</th><th scope=col>&lt;dbl&gt;</th><th scope=col>&lt;dbl&gt;</th><th scope=col>&lt;dbl&gt;</th><th scope=col>&lt;dbl&gt;</th><th scope=col>&lt;dbl&gt;</th><th scope=col>&lt;dbl&gt;</th><th scope=col>&lt;dbl&gt;</th><th scope=col>&lt;dbl&gt;</th></tr>\n",
       "</thead>\n",
       "<tbody>\n",
       "\t<tr><th scope=row>1</th><td>1</td><td>standing</td><td>0.2885845</td><td>-0.02029417</td><td>-0.1329051</td><td>-0.9952786</td><td>-0.9831106</td><td>-0.9135264</td><td>0.9633961</td><td>-0.1408397</td><td>...</td><td>-0.08843612</td><td>-0.9937257</td><td>-0.9937550</td><td>0.3469885</td><td>-0.9801349</td><td>-0.9613094</td><td>-0.1289889</td><td>-0.9919904</td><td>-0.9906975</td><td>-0.07432303</td></tr>\n",
       "\t<tr><th scope=row>2</th><td>1</td><td>standing</td><td>0.2784188</td><td>-0.01641057</td><td>-0.1235202</td><td>-0.9982453</td><td>-0.9753002</td><td>-0.9603220</td><td>0.9665611</td><td>-0.1415513</td><td>...</td><td>-0.04414989</td><td>-0.9903355</td><td>-0.9919603</td><td>0.5320605</td><td>-0.9882956</td><td>-0.9833219</td><td>-0.2719585</td><td>-0.9958539</td><td>-0.9963995</td><td> 0.15807454</td></tr>\n",
       "\t<tr><th scope=row>3</th><td>1</td><td>standing</td><td>0.2796531</td><td>-0.01946716</td><td>-0.1134617</td><td>-0.9953796</td><td>-0.9671870</td><td>-0.9789440</td><td>0.9668781</td><td>-0.1420098</td><td>...</td><td> 0.25789914</td><td>-0.9892801</td><td>-0.9908667</td><td>0.6607950</td><td>-0.9892548</td><td>-0.9860277</td><td>-0.2127279</td><td>-0.9950305</td><td>-0.9951274</td><td> 0.41450281</td></tr>\n",
       "\t<tr><th scope=row>4</th><td>1</td><td>standing</td><td>0.2791739</td><td>-0.02620065</td><td>-0.1232826</td><td>-0.9960915</td><td>-0.9834027</td><td>-0.9906751</td><td>0.9676152</td><td>-0.1439765</td><td>...</td><td> 0.07358150</td><td>-0.9927689</td><td>-0.9916998</td><td>0.6789213</td><td>-0.9894128</td><td>-0.9878358</td><td>-0.0356842</td><td>-0.9952207</td><td>-0.9952369</td><td> 0.40457253</td></tr>\n",
       "\t<tr><th scope=row>5</th><td>1</td><td>standing</td><td>0.2766288</td><td>-0.01656965</td><td>-0.1153619</td><td>-0.9981386</td><td>-0.9808173</td><td>-0.9904816</td><td>0.9682244</td><td>-0.1487502</td><td>...</td><td> 0.39431033</td><td>-0.9955228</td><td>-0.9943890</td><td>0.5590577</td><td>-0.9914330</td><td>-0.9890594</td><td>-0.2735820</td><td>-0.9950928</td><td>-0.9954648</td><td> 0.08775301</td></tr>\n",
       "\t<tr><th scope=row>6</th><td>1</td><td>standing</td><td>0.2771988</td><td>-0.01009785</td><td>-0.1051373</td><td>-0.9973350</td><td>-0.9904868</td><td>-0.9954200</td><td>0.9679482</td><td>-0.1482100</td><td>...</td><td> 0.43796212</td><td>-0.9947329</td><td>-0.9951562</td><td>0.2469096</td><td>-0.9905000</td><td>-0.9858609</td><td>-0.2973291</td><td>-0.9951433</td><td>-0.9952387</td><td> 0.01995331</td></tr>\n",
       "</tbody>\n",
       "</table>\n"
      ],
      "text/latex": [
       "A data.frame: 6 × 81\n",
       "\\begin{tabular}{r|lllllllllllllllllllll}\n",
       "  & VolunteerNo & Activity & tBodyAcc.mean...X & tBodyAcc.mean...Y & tBodyAcc.mean...Z & tBodyAcc.std...X & tBodyAcc.std...Y & tBodyAcc.std...Z & tGravityAcc.mean...X & tGravityAcc.mean...Y & ... & fBodyAccMag.meanFreq.. & fBodyBodyAccJerkMag.mean.. & fBodyBodyAccJerkMag.std.. & fBodyBodyAccJerkMag.meanFreq.. & fBodyBodyGyroMag.mean.. & fBodyBodyGyroMag.std.. & fBodyBodyGyroMag.meanFreq.. & fBodyBodyGyroJerkMag.mean.. & fBodyBodyGyroJerkMag.std.. & fBodyBodyGyroJerkMag.meanFreq..\\\\\n",
       "  & <int> & <fct> & <dbl> & <dbl> & <dbl> & <dbl> & <dbl> & <dbl> & <dbl> & <dbl> & ... & <dbl> & <dbl> & <dbl> & <dbl> & <dbl> & <dbl> & <dbl> & <dbl> & <dbl> & <dbl>\\\\\n",
       "\\hline\n",
       "\t1 & 1 & standing & 0.2885845 & -0.02029417 & -0.1329051 & -0.9952786 & -0.9831106 & -0.9135264 & 0.9633961 & -0.1408397 & ... & -0.08843612 & -0.9937257 & -0.9937550 & 0.3469885 & -0.9801349 & -0.9613094 & -0.1289889 & -0.9919904 & -0.9906975 & -0.07432303\\\\\n",
       "\t2 & 1 & standing & 0.2784188 & -0.01641057 & -0.1235202 & -0.9982453 & -0.9753002 & -0.9603220 & 0.9665611 & -0.1415513 & ... & -0.04414989 & -0.9903355 & -0.9919603 & 0.5320605 & -0.9882956 & -0.9833219 & -0.2719585 & -0.9958539 & -0.9963995 &  0.15807454\\\\\n",
       "\t3 & 1 & standing & 0.2796531 & -0.01946716 & -0.1134617 & -0.9953796 & -0.9671870 & -0.9789440 & 0.9668781 & -0.1420098 & ... &  0.25789914 & -0.9892801 & -0.9908667 & 0.6607950 & -0.9892548 & -0.9860277 & -0.2127279 & -0.9950305 & -0.9951274 &  0.41450281\\\\\n",
       "\t4 & 1 & standing & 0.2791739 & -0.02620065 & -0.1232826 & -0.9960915 & -0.9834027 & -0.9906751 & 0.9676152 & -0.1439765 & ... &  0.07358150 & -0.9927689 & -0.9916998 & 0.6789213 & -0.9894128 & -0.9878358 & -0.0356842 & -0.9952207 & -0.9952369 &  0.40457253\\\\\n",
       "\t5 & 1 & standing & 0.2766288 & -0.01656965 & -0.1153619 & -0.9981386 & -0.9808173 & -0.9904816 & 0.9682244 & -0.1487502 & ... &  0.39431033 & -0.9955228 & -0.9943890 & 0.5590577 & -0.9914330 & -0.9890594 & -0.2735820 & -0.9950928 & -0.9954648 &  0.08775301\\\\\n",
       "\t6 & 1 & standing & 0.2771988 & -0.01009785 & -0.1051373 & -0.9973350 & -0.9904868 & -0.9954200 & 0.9679482 & -0.1482100 & ... &  0.43796212 & -0.9947329 & -0.9951562 & 0.2469096 & -0.9905000 & -0.9858609 & -0.2973291 & -0.9951433 & -0.9952387 &  0.01995331\\\\\n",
       "\\end{tabular}\n"
      ],
      "text/markdown": [
       "\n",
       "A data.frame: 6 × 81\n",
       "\n",
       "| <!--/--> | VolunteerNo &lt;int&gt; | Activity &lt;fct&gt; | tBodyAcc.mean...X &lt;dbl&gt; | tBodyAcc.mean...Y &lt;dbl&gt; | tBodyAcc.mean...Z &lt;dbl&gt; | tBodyAcc.std...X &lt;dbl&gt; | tBodyAcc.std...Y &lt;dbl&gt; | tBodyAcc.std...Z &lt;dbl&gt; | tGravityAcc.mean...X &lt;dbl&gt; | tGravityAcc.mean...Y &lt;dbl&gt; | ... ... | fBodyAccMag.meanFreq.. &lt;dbl&gt; | fBodyBodyAccJerkMag.mean.. &lt;dbl&gt; | fBodyBodyAccJerkMag.std.. &lt;dbl&gt; | fBodyBodyAccJerkMag.meanFreq.. &lt;dbl&gt; | fBodyBodyGyroMag.mean.. &lt;dbl&gt; | fBodyBodyGyroMag.std.. &lt;dbl&gt; | fBodyBodyGyroMag.meanFreq.. &lt;dbl&gt; | fBodyBodyGyroJerkMag.mean.. &lt;dbl&gt; | fBodyBodyGyroJerkMag.std.. &lt;dbl&gt; | fBodyBodyGyroJerkMag.meanFreq.. &lt;dbl&gt; |\n",
       "|---|---|---|---|---|---|---|---|---|---|---|---|---|---|---|---|---|---|---|---|---|---|\n",
       "| 1 | 1 | standing | 0.2885845 | -0.02029417 | -0.1329051 | -0.9952786 | -0.9831106 | -0.9135264 | 0.9633961 | -0.1408397 | ... | -0.08843612 | -0.9937257 | -0.9937550 | 0.3469885 | -0.9801349 | -0.9613094 | -0.1289889 | -0.9919904 | -0.9906975 | -0.07432303 |\n",
       "| 2 | 1 | standing | 0.2784188 | -0.01641057 | -0.1235202 | -0.9982453 | -0.9753002 | -0.9603220 | 0.9665611 | -0.1415513 | ... | -0.04414989 | -0.9903355 | -0.9919603 | 0.5320605 | -0.9882956 | -0.9833219 | -0.2719585 | -0.9958539 | -0.9963995 |  0.15807454 |\n",
       "| 3 | 1 | standing | 0.2796531 | -0.01946716 | -0.1134617 | -0.9953796 | -0.9671870 | -0.9789440 | 0.9668781 | -0.1420098 | ... |  0.25789914 | -0.9892801 | -0.9908667 | 0.6607950 | -0.9892548 | -0.9860277 | -0.2127279 | -0.9950305 | -0.9951274 |  0.41450281 |\n",
       "| 4 | 1 | standing | 0.2791739 | -0.02620065 | -0.1232826 | -0.9960915 | -0.9834027 | -0.9906751 | 0.9676152 | -0.1439765 | ... |  0.07358150 | -0.9927689 | -0.9916998 | 0.6789213 | -0.9894128 | -0.9878358 | -0.0356842 | -0.9952207 | -0.9952369 |  0.40457253 |\n",
       "| 5 | 1 | standing | 0.2766288 | -0.01656965 | -0.1153619 | -0.9981386 | -0.9808173 | -0.9904816 | 0.9682244 | -0.1487502 | ... |  0.39431033 | -0.9955228 | -0.9943890 | 0.5590577 | -0.9914330 | -0.9890594 | -0.2735820 | -0.9950928 | -0.9954648 |  0.08775301 |\n",
       "| 6 | 1 | standing | 0.2771988 | -0.01009785 | -0.1051373 | -0.9973350 | -0.9904868 | -0.9954200 | 0.9679482 | -0.1482100 | ... |  0.43796212 | -0.9947329 | -0.9951562 | 0.2469096 | -0.9905000 | -0.9858609 | -0.2973291 | -0.9951433 | -0.9952387 |  0.01995331 |\n",
       "\n"
      ],
      "text/plain": [
       "  VolunteerNo Activity tBodyAcc.mean...X tBodyAcc.mean...Y tBodyAcc.mean...Z tBodyAcc.std...X tBodyAcc.std...Y tBodyAcc.std...Z\n",
       "1 1           standing 0.2885845         -0.02029417       -0.1329051        -0.9952786       -0.9831106       -0.9135264      \n",
       "2 1           standing 0.2784188         -0.01641057       -0.1235202        -0.9982453       -0.9753002       -0.9603220      \n",
       "3 1           standing 0.2796531         -0.01946716       -0.1134617        -0.9953796       -0.9671870       -0.9789440      \n",
       "4 1           standing 0.2791739         -0.02620065       -0.1232826        -0.9960915       -0.9834027       -0.9906751      \n",
       "5 1           standing 0.2766288         -0.01656965       -0.1153619        -0.9981386       -0.9808173       -0.9904816      \n",
       "6 1           standing 0.2771988         -0.01009785       -0.1051373        -0.9973350       -0.9904868       -0.9954200      \n",
       "  tGravityAcc.mean...X tGravityAcc.mean...Y ... fBodyAccMag.meanFreq.. fBodyBodyAccJerkMag.mean.. fBodyBodyAccJerkMag.std..\n",
       "1 0.9633961            -0.1408397           ... -0.08843612            -0.9937257                 -0.9937550               \n",
       "2 0.9665611            -0.1415513           ... -0.04414989            -0.9903355                 -0.9919603               \n",
       "3 0.9668781            -0.1420098           ...  0.25789914            -0.9892801                 -0.9908667               \n",
       "4 0.9676152            -0.1439765           ...  0.07358150            -0.9927689                 -0.9916998               \n",
       "5 0.9682244            -0.1487502           ...  0.39431033            -0.9955228                 -0.9943890               \n",
       "6 0.9679482            -0.1482100           ...  0.43796212            -0.9947329                 -0.9951562               \n",
       "  fBodyBodyAccJerkMag.meanFreq.. fBodyBodyGyroMag.mean.. fBodyBodyGyroMag.std.. fBodyBodyGyroMag.meanFreq..\n",
       "1 0.3469885                      -0.9801349              -0.9613094             -0.1289889                 \n",
       "2 0.5320605                      -0.9882956              -0.9833219             -0.2719585                 \n",
       "3 0.6607950                      -0.9892548              -0.9860277             -0.2127279                 \n",
       "4 0.6789213                      -0.9894128              -0.9878358             -0.0356842                 \n",
       "5 0.5590577                      -0.9914330              -0.9890594             -0.2735820                 \n",
       "6 0.2469096                      -0.9905000              -0.9858609             -0.2973291                 \n",
       "  fBodyBodyGyroJerkMag.mean.. fBodyBodyGyroJerkMag.std.. fBodyBodyGyroJerkMag.meanFreq..\n",
       "1 -0.9919904                  -0.9906975                 -0.07432303                    \n",
       "2 -0.9958539                  -0.9963995                  0.15807454                    \n",
       "3 -0.9950305                  -0.9951274                  0.41450281                    \n",
       "4 -0.9952207                  -0.9952369                  0.40457253                    \n",
       "5 -0.9950928                  -0.9954648                  0.08775301                    \n",
       "6 -0.9951433                  -0.9952387                  0.01995331                    "
      ]
     },
     "metadata": {},
     "output_type": "display_data"
    }
   ],
   "source": [
    "head(extractedDf)"
   ]
  },
  {
   "cell_type": "markdown",
   "metadata": {},
   "source": [
    "__Step 4 - Appropriately labels the data set with descriptive variable names__"
   ]
  },
  {
   "cell_type": "code",
   "execution_count": 8,
   "metadata": {},
   "outputs": [],
   "source": [
    "# use REGEX to replace t with time & f with freq and remove \".-()\"  in the variable names\n",
    "featureNames<-names(extractedDf)\n",
    "featureNames  %>% sub('^[t]','time', .)  %>% sub('^[f]', 'freq', .)  %>% sub('mean', 'Mean', .) %>% sub('std', 'Std', .) %>% gsub('[-|().]', '', .) ->featureNames\n",
    "names(extractedDf)<-featureNames"
   ]
  },
  {
   "cell_type": "code",
   "execution_count": 9,
   "metadata": {},
   "outputs": [
    {
     "data": {
      "text/html": [
       "<table>\n",
       "<caption>A data.frame: 3 × 81</caption>\n",
       "<thead>\n",
       "\t<tr><th></th><th scope=col>VolunteerNo</th><th scope=col>Activity</th><th scope=col>timeBodyAccMeanX</th><th scope=col>timeBodyAccMeanY</th><th scope=col>timeBodyAccMeanZ</th><th scope=col>timeBodyAccStdX</th><th scope=col>timeBodyAccStdY</th><th scope=col>timeBodyAccStdZ</th><th scope=col>timeGravityAccMeanX</th><th scope=col>timeGravityAccMeanY</th><th scope=col>...</th><th scope=col>freqBodyAccMagMeanFreq</th><th scope=col>freqBodyBodyAccJerkMagMean</th><th scope=col>freqBodyBodyAccJerkMagStd</th><th scope=col>freqBodyBodyAccJerkMagMeanFreq</th><th scope=col>freqBodyBodyGyroMagMean</th><th scope=col>freqBodyBodyGyroMagStd</th><th scope=col>freqBodyBodyGyroMagMeanFreq</th><th scope=col>freqBodyBodyGyroJerkMagMean</th><th scope=col>freqBodyBodyGyroJerkMagStd</th><th scope=col>freqBodyBodyGyroJerkMagMeanFreq</th></tr>\n",
       "\t<tr><th></th><th scope=col>&lt;int&gt;</th><th scope=col>&lt;fct&gt;</th><th scope=col>&lt;dbl&gt;</th><th scope=col>&lt;dbl&gt;</th><th scope=col>&lt;dbl&gt;</th><th scope=col>&lt;dbl&gt;</th><th scope=col>&lt;dbl&gt;</th><th scope=col>&lt;dbl&gt;</th><th scope=col>&lt;dbl&gt;</th><th scope=col>&lt;dbl&gt;</th><th scope=col>...</th><th scope=col>&lt;dbl&gt;</th><th scope=col>&lt;dbl&gt;</th><th scope=col>&lt;dbl&gt;</th><th scope=col>&lt;dbl&gt;</th><th scope=col>&lt;dbl&gt;</th><th scope=col>&lt;dbl&gt;</th><th scope=col>&lt;dbl&gt;</th><th scope=col>&lt;dbl&gt;</th><th scope=col>&lt;dbl&gt;</th><th scope=col>&lt;dbl&gt;</th></tr>\n",
       "</thead>\n",
       "<tbody>\n",
       "\t<tr><th scope=row>1</th><td>1</td><td>standing</td><td>0.2885845</td><td>-0.02029417</td><td>-0.1329051</td><td>-0.9952786</td><td>-0.9831106</td><td>-0.9135264</td><td>0.9633961</td><td>-0.1408397</td><td>...</td><td>-0.08843612</td><td>-0.9937257</td><td>-0.9937550</td><td>0.3469885</td><td>-0.9801349</td><td>-0.9613094</td><td>-0.1289889</td><td>-0.9919904</td><td>-0.9906975</td><td>-0.07432303</td></tr>\n",
       "\t<tr><th scope=row>2</th><td>1</td><td>standing</td><td>0.2784188</td><td>-0.01641057</td><td>-0.1235202</td><td>-0.9982453</td><td>-0.9753002</td><td>-0.9603220</td><td>0.9665611</td><td>-0.1415513</td><td>...</td><td>-0.04414989</td><td>-0.9903355</td><td>-0.9919603</td><td>0.5320605</td><td>-0.9882956</td><td>-0.9833219</td><td>-0.2719585</td><td>-0.9958539</td><td>-0.9963995</td><td> 0.15807454</td></tr>\n",
       "\t<tr><th scope=row>3</th><td>1</td><td>standing</td><td>0.2796531</td><td>-0.01946716</td><td>-0.1134617</td><td>-0.9953796</td><td>-0.9671870</td><td>-0.9789440</td><td>0.9668781</td><td>-0.1420098</td><td>...</td><td> 0.25789914</td><td>-0.9892801</td><td>-0.9908667</td><td>0.6607950</td><td>-0.9892548</td><td>-0.9860277</td><td>-0.2127279</td><td>-0.9950305</td><td>-0.9951274</td><td> 0.41450281</td></tr>\n",
       "</tbody>\n",
       "</table>\n"
      ],
      "text/latex": [
       "A data.frame: 3 × 81\n",
       "\\begin{tabular}{r|lllllllllllllllllllll}\n",
       "  & VolunteerNo & Activity & timeBodyAccMeanX & timeBodyAccMeanY & timeBodyAccMeanZ & timeBodyAccStdX & timeBodyAccStdY & timeBodyAccStdZ & timeGravityAccMeanX & timeGravityAccMeanY & ... & freqBodyAccMagMeanFreq & freqBodyBodyAccJerkMagMean & freqBodyBodyAccJerkMagStd & freqBodyBodyAccJerkMagMeanFreq & freqBodyBodyGyroMagMean & freqBodyBodyGyroMagStd & freqBodyBodyGyroMagMeanFreq & freqBodyBodyGyroJerkMagMean & freqBodyBodyGyroJerkMagStd & freqBodyBodyGyroJerkMagMeanFreq\\\\\n",
       "  & <int> & <fct> & <dbl> & <dbl> & <dbl> & <dbl> & <dbl> & <dbl> & <dbl> & <dbl> & ... & <dbl> & <dbl> & <dbl> & <dbl> & <dbl> & <dbl> & <dbl> & <dbl> & <dbl> & <dbl>\\\\\n",
       "\\hline\n",
       "\t1 & 1 & standing & 0.2885845 & -0.02029417 & -0.1329051 & -0.9952786 & -0.9831106 & -0.9135264 & 0.9633961 & -0.1408397 & ... & -0.08843612 & -0.9937257 & -0.9937550 & 0.3469885 & -0.9801349 & -0.9613094 & -0.1289889 & -0.9919904 & -0.9906975 & -0.07432303\\\\\n",
       "\t2 & 1 & standing & 0.2784188 & -0.01641057 & -0.1235202 & -0.9982453 & -0.9753002 & -0.9603220 & 0.9665611 & -0.1415513 & ... & -0.04414989 & -0.9903355 & -0.9919603 & 0.5320605 & -0.9882956 & -0.9833219 & -0.2719585 & -0.9958539 & -0.9963995 &  0.15807454\\\\\n",
       "\t3 & 1 & standing & 0.2796531 & -0.01946716 & -0.1134617 & -0.9953796 & -0.9671870 & -0.9789440 & 0.9668781 & -0.1420098 & ... &  0.25789914 & -0.9892801 & -0.9908667 & 0.6607950 & -0.9892548 & -0.9860277 & -0.2127279 & -0.9950305 & -0.9951274 &  0.41450281\\\\\n",
       "\\end{tabular}\n"
      ],
      "text/markdown": [
       "\n",
       "A data.frame: 3 × 81\n",
       "\n",
       "| <!--/--> | VolunteerNo &lt;int&gt; | Activity &lt;fct&gt; | timeBodyAccMeanX &lt;dbl&gt; | timeBodyAccMeanY &lt;dbl&gt; | timeBodyAccMeanZ &lt;dbl&gt; | timeBodyAccStdX &lt;dbl&gt; | timeBodyAccStdY &lt;dbl&gt; | timeBodyAccStdZ &lt;dbl&gt; | timeGravityAccMeanX &lt;dbl&gt; | timeGravityAccMeanY &lt;dbl&gt; | ... ... | freqBodyAccMagMeanFreq &lt;dbl&gt; | freqBodyBodyAccJerkMagMean &lt;dbl&gt; | freqBodyBodyAccJerkMagStd &lt;dbl&gt; | freqBodyBodyAccJerkMagMeanFreq &lt;dbl&gt; | freqBodyBodyGyroMagMean &lt;dbl&gt; | freqBodyBodyGyroMagStd &lt;dbl&gt; | freqBodyBodyGyroMagMeanFreq &lt;dbl&gt; | freqBodyBodyGyroJerkMagMean &lt;dbl&gt; | freqBodyBodyGyroJerkMagStd &lt;dbl&gt; | freqBodyBodyGyroJerkMagMeanFreq &lt;dbl&gt; |\n",
       "|---|---|---|---|---|---|---|---|---|---|---|---|---|---|---|---|---|---|---|---|---|---|\n",
       "| 1 | 1 | standing | 0.2885845 | -0.02029417 | -0.1329051 | -0.9952786 | -0.9831106 | -0.9135264 | 0.9633961 | -0.1408397 | ... | -0.08843612 | -0.9937257 | -0.9937550 | 0.3469885 | -0.9801349 | -0.9613094 | -0.1289889 | -0.9919904 | -0.9906975 | -0.07432303 |\n",
       "| 2 | 1 | standing | 0.2784188 | -0.01641057 | -0.1235202 | -0.9982453 | -0.9753002 | -0.9603220 | 0.9665611 | -0.1415513 | ... | -0.04414989 | -0.9903355 | -0.9919603 | 0.5320605 | -0.9882956 | -0.9833219 | -0.2719585 | -0.9958539 | -0.9963995 |  0.15807454 |\n",
       "| 3 | 1 | standing | 0.2796531 | -0.01946716 | -0.1134617 | -0.9953796 | -0.9671870 | -0.9789440 | 0.9668781 | -0.1420098 | ... |  0.25789914 | -0.9892801 | -0.9908667 | 0.6607950 | -0.9892548 | -0.9860277 | -0.2127279 | -0.9950305 | -0.9951274 |  0.41450281 |\n",
       "\n"
      ],
      "text/plain": [
       "  VolunteerNo Activity timeBodyAccMeanX timeBodyAccMeanY timeBodyAccMeanZ timeBodyAccStdX timeBodyAccStdY timeBodyAccStdZ\n",
       "1 1           standing 0.2885845        -0.02029417      -0.1329051       -0.9952786      -0.9831106      -0.9135264     \n",
       "2 1           standing 0.2784188        -0.01641057      -0.1235202       -0.9982453      -0.9753002      -0.9603220     \n",
       "3 1           standing 0.2796531        -0.01946716      -0.1134617       -0.9953796      -0.9671870      -0.9789440     \n",
       "  timeGravityAccMeanX timeGravityAccMeanY ... freqBodyAccMagMeanFreq freqBodyBodyAccJerkMagMean freqBodyBodyAccJerkMagStd\n",
       "1 0.9633961           -0.1408397          ... -0.08843612            -0.9937257                 -0.9937550               \n",
       "2 0.9665611           -0.1415513          ... -0.04414989            -0.9903355                 -0.9919603               \n",
       "3 0.9668781           -0.1420098          ...  0.25789914            -0.9892801                 -0.9908667               \n",
       "  freqBodyBodyAccJerkMagMeanFreq freqBodyBodyGyroMagMean freqBodyBodyGyroMagStd freqBodyBodyGyroMagMeanFreq\n",
       "1 0.3469885                      -0.9801349              -0.9613094             -0.1289889                 \n",
       "2 0.5320605                      -0.9882956              -0.9833219             -0.2719585                 \n",
       "3 0.6607950                      -0.9892548              -0.9860277             -0.2127279                 \n",
       "  freqBodyBodyGyroJerkMagMean freqBodyBodyGyroJerkMagStd freqBodyBodyGyroJerkMagMeanFreq\n",
       "1 -0.9919904                  -0.9906975                 -0.07432303                    \n",
       "2 -0.9958539                  -0.9963995                  0.15807454                    \n",
       "3 -0.9950305                  -0.9951274                  0.41450281                    "
      ]
     },
     "metadata": {},
     "output_type": "display_data"
    }
   ],
   "source": [
    "head(extractedDf, n=3)"
   ]
  },
  {
   "cell_type": "markdown",
   "metadata": {},
   "source": [
    "__Step 5 - From the data set in step 4, creates a second, independent tidy data set with the average of each variable for each activity and each subject.__"
   ]
  },
  {
   "cell_type": "code",
   "execution_count": 10,
   "metadata": {},
   "outputs": [],
   "source": [
    "library(dplyr)\n",
    "extractedDf  %>% group_by(VolunteerNo, Activity)  %>% summarise_all(.funs= c(mean='mean')) -> tidyDf2"
   ]
  },
  {
   "cell_type": "code",
   "execution_count": 12,
   "metadata": {},
   "outputs": [
    {
     "data": {
      "text/html": [
       "<table>\n",
       "<caption>A grouped_df: 6 × 81</caption>\n",
       "<thead>\n",
       "\t<tr><th scope=col>VolunteerNo</th><th scope=col>Activity</th><th scope=col>timeBodyAccMeanX_mean</th><th scope=col>timeBodyAccMeanY_mean</th><th scope=col>timeBodyAccMeanZ_mean</th><th scope=col>timeBodyAccStdX_mean</th><th scope=col>timeBodyAccStdY_mean</th><th scope=col>timeBodyAccStdZ_mean</th><th scope=col>timeGravityAccMeanX_mean</th><th scope=col>timeGravityAccMeanY_mean</th><th scope=col>...</th><th scope=col>freqBodyAccMagMeanFreq_mean</th><th scope=col>freqBodyBodyAccJerkMagMean_mean</th><th scope=col>freqBodyBodyAccJerkMagStd_mean</th><th scope=col>freqBodyBodyAccJerkMagMeanFreq_mean</th><th scope=col>freqBodyBodyGyroMagMean_mean</th><th scope=col>freqBodyBodyGyroMagStd_mean</th><th scope=col>freqBodyBodyGyroMagMeanFreq_mean</th><th scope=col>freqBodyBodyGyroJerkMagMean_mean</th><th scope=col>freqBodyBodyGyroJerkMagStd_mean</th><th scope=col>freqBodyBodyGyroJerkMagMeanFreq_mean</th></tr>\n",
       "\t<tr><th scope=col>&lt;int&gt;</th><th scope=col>&lt;fct&gt;</th><th scope=col>&lt;dbl&gt;</th><th scope=col>&lt;dbl&gt;</th><th scope=col>&lt;dbl&gt;</th><th scope=col>&lt;dbl&gt;</th><th scope=col>&lt;dbl&gt;</th><th scope=col>&lt;dbl&gt;</th><th scope=col>&lt;dbl&gt;</th><th scope=col>&lt;dbl&gt;</th><th scope=col>...</th><th scope=col>&lt;dbl&gt;</th><th scope=col>&lt;dbl&gt;</th><th scope=col>&lt;dbl&gt;</th><th scope=col>&lt;dbl&gt;</th><th scope=col>&lt;dbl&gt;</th><th scope=col>&lt;dbl&gt;</th><th scope=col>&lt;dbl&gt;</th><th scope=col>&lt;dbl&gt;</th><th scope=col>&lt;dbl&gt;</th><th scope=col>&lt;dbl&gt;</th></tr>\n",
       "</thead>\n",
       "<tbody>\n",
       "\t<tr><td>1</td><td>walking           </td><td>0.2773308</td><td>-0.017383819</td><td>-0.1111481</td><td>-0.28374026</td><td> 0.114461337</td><td>-0.26002790</td><td> 0.9352232</td><td>-0.2821650</td><td>...</td><td> 0.19064372</td><td>-0.05711940</td><td>-0.1034924</td><td>0.09382218</td><td>-0.1992526</td><td>-0.3210180</td><td> 0.2688443675</td><td>-0.3193086</td><td>-0.3816019</td><td>0.1906634</td></tr>\n",
       "\t<tr><td>1</td><td>walking_upstairs  </td><td>0.2554617</td><td>-0.023953149</td><td>-0.0973020</td><td>-0.35470803</td><td>-0.002320265</td><td>-0.01947924</td><td> 0.8933511</td><td>-0.3621534</td><td>...</td><td>-0.09774335</td><td>-0.44265216</td><td>-0.5330599</td><td>0.08535241</td><td>-0.3259615</td><td>-0.1829855</td><td>-0.2193033761</td><td>-0.6346651</td><td>-0.6939305</td><td>0.1142773</td></tr>\n",
       "\t<tr><td>1</td><td>walking_downstairs</td><td>0.2891883</td><td>-0.009918505</td><td>-0.1075662</td><td> 0.03003534</td><td>-0.031935943</td><td>-0.23043421</td><td> 0.9318744</td><td>-0.2666103</td><td>...</td><td> 0.11918714</td><td> 0.02621849</td><td>-0.1040523</td><td>0.07649155</td><td>-0.1857203</td><td>-0.3983504</td><td> 0.3496138955</td><td>-0.2819634</td><td>-0.3919199</td><td>0.1900007</td></tr>\n",
       "\t<tr><td>1</td><td>sitting           </td><td>0.2612376</td><td>-0.001308288</td><td>-0.1045442</td><td>-0.97722901</td><td>-0.922618642</td><td>-0.93958629</td><td> 0.8315099</td><td> 0.2044116</td><td>...</td><td> 0.23665501</td><td>-0.98526213</td><td>-0.9816062</td><td>0.35185220</td><td>-0.9584356</td><td>-0.9321984</td><td>-0.0002621867</td><td>-0.9897975</td><td>-0.9870496</td><td>0.1847759</td></tr>\n",
       "\t<tr><td>1</td><td>standing          </td><td>0.2789176</td><td>-0.016137590</td><td>-0.1106018</td><td>-0.99575990</td><td>-0.973190056</td><td>-0.97977588</td><td> 0.9429520</td><td>-0.2729838</td><td>...</td><td> 0.28455529</td><td>-0.99254248</td><td>-0.9925360</td><td>0.42222010</td><td>-0.9846176</td><td>-0.9784661</td><td>-0.0286057725</td><td>-0.9948154</td><td>-0.9946711</td><td>0.3344987</td></tr>\n",
       "\t<tr><td>1</td><td>laying            </td><td>0.2215982</td><td>-0.040513953</td><td>-0.1132036</td><td>-0.92805647</td><td>-0.836827406</td><td>-0.82606140</td><td>-0.2488818</td><td> 0.7055498</td><td>...</td><td> 0.08640856</td><td>-0.93330036</td><td>-0.9218040</td><td>0.26639115</td><td>-0.8621902</td><td>-0.8243194</td><td>-0.1397750127</td><td>-0.9423669</td><td>-0.9326607</td><td>0.1764859</td></tr>\n",
       "</tbody>\n",
       "</table>\n"
      ],
      "text/latex": [
       "A grouped\\_df: 6 × 81\n",
       "\\begin{tabular}{lllllllllllllllllllll}\n",
       " VolunteerNo & Activity & timeBodyAccMeanX\\_mean & timeBodyAccMeanY\\_mean & timeBodyAccMeanZ\\_mean & timeBodyAccStdX\\_mean & timeBodyAccStdY\\_mean & timeBodyAccStdZ\\_mean & timeGravityAccMeanX\\_mean & timeGravityAccMeanY\\_mean & ... & freqBodyAccMagMeanFreq\\_mean & freqBodyBodyAccJerkMagMean\\_mean & freqBodyBodyAccJerkMagStd\\_mean & freqBodyBodyAccJerkMagMeanFreq\\_mean & freqBodyBodyGyroMagMean\\_mean & freqBodyBodyGyroMagStd\\_mean & freqBodyBodyGyroMagMeanFreq\\_mean & freqBodyBodyGyroJerkMagMean\\_mean & freqBodyBodyGyroJerkMagStd\\_mean & freqBodyBodyGyroJerkMagMeanFreq\\_mean\\\\\n",
       " <int> & <fct> & <dbl> & <dbl> & <dbl> & <dbl> & <dbl> & <dbl> & <dbl> & <dbl> & ... & <dbl> & <dbl> & <dbl> & <dbl> & <dbl> & <dbl> & <dbl> & <dbl> & <dbl> & <dbl>\\\\\n",
       "\\hline\n",
       "\t 1 & walking            & 0.2773308 & -0.017383819 & -0.1111481 & -0.28374026 &  0.114461337 & -0.26002790 &  0.9352232 & -0.2821650 & ... &  0.19064372 & -0.05711940 & -0.1034924 & 0.09382218 & -0.1992526 & -0.3210180 &  0.2688443675 & -0.3193086 & -0.3816019 & 0.1906634\\\\\n",
       "\t 1 & walking\\_upstairs   & 0.2554617 & -0.023953149 & -0.0973020 & -0.35470803 & -0.002320265 & -0.01947924 &  0.8933511 & -0.3621534 & ... & -0.09774335 & -0.44265216 & -0.5330599 & 0.08535241 & -0.3259615 & -0.1829855 & -0.2193033761 & -0.6346651 & -0.6939305 & 0.1142773\\\\\n",
       "\t 1 & walking\\_downstairs & 0.2891883 & -0.009918505 & -0.1075662 &  0.03003534 & -0.031935943 & -0.23043421 &  0.9318744 & -0.2666103 & ... &  0.11918714 &  0.02621849 & -0.1040523 & 0.07649155 & -0.1857203 & -0.3983504 &  0.3496138955 & -0.2819634 & -0.3919199 & 0.1900007\\\\\n",
       "\t 1 & sitting            & 0.2612376 & -0.001308288 & -0.1045442 & -0.97722901 & -0.922618642 & -0.93958629 &  0.8315099 &  0.2044116 & ... &  0.23665501 & -0.98526213 & -0.9816062 & 0.35185220 & -0.9584356 & -0.9321984 & -0.0002621867 & -0.9897975 & -0.9870496 & 0.1847759\\\\\n",
       "\t 1 & standing           & 0.2789176 & -0.016137590 & -0.1106018 & -0.99575990 & -0.973190056 & -0.97977588 &  0.9429520 & -0.2729838 & ... &  0.28455529 & -0.99254248 & -0.9925360 & 0.42222010 & -0.9846176 & -0.9784661 & -0.0286057725 & -0.9948154 & -0.9946711 & 0.3344987\\\\\n",
       "\t 1 & laying             & 0.2215982 & -0.040513953 & -0.1132036 & -0.92805647 & -0.836827406 & -0.82606140 & -0.2488818 &  0.7055498 & ... &  0.08640856 & -0.93330036 & -0.9218040 & 0.26639115 & -0.8621902 & -0.8243194 & -0.1397750127 & -0.9423669 & -0.9326607 & 0.1764859\\\\\n",
       "\\end{tabular}\n"
      ],
      "text/markdown": [
       "\n",
       "A grouped_df: 6 × 81\n",
       "\n",
       "| VolunteerNo &lt;int&gt; | Activity &lt;fct&gt; | timeBodyAccMeanX_mean &lt;dbl&gt; | timeBodyAccMeanY_mean &lt;dbl&gt; | timeBodyAccMeanZ_mean &lt;dbl&gt; | timeBodyAccStdX_mean &lt;dbl&gt; | timeBodyAccStdY_mean &lt;dbl&gt; | timeBodyAccStdZ_mean &lt;dbl&gt; | timeGravityAccMeanX_mean &lt;dbl&gt; | timeGravityAccMeanY_mean &lt;dbl&gt; | ... ... | freqBodyAccMagMeanFreq_mean &lt;dbl&gt; | freqBodyBodyAccJerkMagMean_mean &lt;dbl&gt; | freqBodyBodyAccJerkMagStd_mean &lt;dbl&gt; | freqBodyBodyAccJerkMagMeanFreq_mean &lt;dbl&gt; | freqBodyBodyGyroMagMean_mean &lt;dbl&gt; | freqBodyBodyGyroMagStd_mean &lt;dbl&gt; | freqBodyBodyGyroMagMeanFreq_mean &lt;dbl&gt; | freqBodyBodyGyroJerkMagMean_mean &lt;dbl&gt; | freqBodyBodyGyroJerkMagStd_mean &lt;dbl&gt; | freqBodyBodyGyroJerkMagMeanFreq_mean &lt;dbl&gt; |\n",
       "|---|---|---|---|---|---|---|---|---|---|---|---|---|---|---|---|---|---|---|---|---|\n",
       "| 1 | walking            | 0.2773308 | -0.017383819 | -0.1111481 | -0.28374026 |  0.114461337 | -0.26002790 |  0.9352232 | -0.2821650 | ... |  0.19064372 | -0.05711940 | -0.1034924 | 0.09382218 | -0.1992526 | -0.3210180 |  0.2688443675 | -0.3193086 | -0.3816019 | 0.1906634 |\n",
       "| 1 | walking_upstairs   | 0.2554617 | -0.023953149 | -0.0973020 | -0.35470803 | -0.002320265 | -0.01947924 |  0.8933511 | -0.3621534 | ... | -0.09774335 | -0.44265216 | -0.5330599 | 0.08535241 | -0.3259615 | -0.1829855 | -0.2193033761 | -0.6346651 | -0.6939305 | 0.1142773 |\n",
       "| 1 | walking_downstairs | 0.2891883 | -0.009918505 | -0.1075662 |  0.03003534 | -0.031935943 | -0.23043421 |  0.9318744 | -0.2666103 | ... |  0.11918714 |  0.02621849 | -0.1040523 | 0.07649155 | -0.1857203 | -0.3983504 |  0.3496138955 | -0.2819634 | -0.3919199 | 0.1900007 |\n",
       "| 1 | sitting            | 0.2612376 | -0.001308288 | -0.1045442 | -0.97722901 | -0.922618642 | -0.93958629 |  0.8315099 |  0.2044116 | ... |  0.23665501 | -0.98526213 | -0.9816062 | 0.35185220 | -0.9584356 | -0.9321984 | -0.0002621867 | -0.9897975 | -0.9870496 | 0.1847759 |\n",
       "| 1 | standing           | 0.2789176 | -0.016137590 | -0.1106018 | -0.99575990 | -0.973190056 | -0.97977588 |  0.9429520 | -0.2729838 | ... |  0.28455529 | -0.99254248 | -0.9925360 | 0.42222010 | -0.9846176 | -0.9784661 | -0.0286057725 | -0.9948154 | -0.9946711 | 0.3344987 |\n",
       "| 1 | laying             | 0.2215982 | -0.040513953 | -0.1132036 | -0.92805647 | -0.836827406 | -0.82606140 | -0.2488818 |  0.7055498 | ... |  0.08640856 | -0.93330036 | -0.9218040 | 0.26639115 | -0.8621902 | -0.8243194 | -0.1397750127 | -0.9423669 | -0.9326607 | 0.1764859 |\n",
       "\n"
      ],
      "text/plain": [
       "  VolunteerNo Activity           timeBodyAccMeanX_mean timeBodyAccMeanY_mean timeBodyAccMeanZ_mean timeBodyAccStdX_mean\n",
       "1 1           walking            0.2773308             -0.017383819          -0.1111481            -0.28374026         \n",
       "2 1           walking_upstairs   0.2554617             -0.023953149          -0.0973020            -0.35470803         \n",
       "3 1           walking_downstairs 0.2891883             -0.009918505          -0.1075662             0.03003534         \n",
       "4 1           sitting            0.2612376             -0.001308288          -0.1045442            -0.97722901         \n",
       "5 1           standing           0.2789176             -0.016137590          -0.1106018            -0.99575990         \n",
       "6 1           laying             0.2215982             -0.040513953          -0.1132036            -0.92805647         \n",
       "  timeBodyAccStdY_mean timeBodyAccStdZ_mean timeGravityAccMeanX_mean timeGravityAccMeanY_mean ... freqBodyAccMagMeanFreq_mean\n",
       "1  0.114461337         -0.26002790           0.9352232               -0.2821650               ...  0.19064372                \n",
       "2 -0.002320265         -0.01947924           0.8933511               -0.3621534               ... -0.09774335                \n",
       "3 -0.031935943         -0.23043421           0.9318744               -0.2666103               ...  0.11918714                \n",
       "4 -0.922618642         -0.93958629           0.8315099                0.2044116               ...  0.23665501                \n",
       "5 -0.973190056         -0.97977588           0.9429520               -0.2729838               ...  0.28455529                \n",
       "6 -0.836827406         -0.82606140          -0.2488818                0.7055498               ...  0.08640856                \n",
       "  freqBodyBodyAccJerkMagMean_mean freqBodyBodyAccJerkMagStd_mean freqBodyBodyAccJerkMagMeanFreq_mean freqBodyBodyGyroMagMean_mean\n",
       "1 -0.05711940                     -0.1034924                     0.09382218                          -0.1992526                  \n",
       "2 -0.44265216                     -0.5330599                     0.08535241                          -0.3259615                  \n",
       "3  0.02621849                     -0.1040523                     0.07649155                          -0.1857203                  \n",
       "4 -0.98526213                     -0.9816062                     0.35185220                          -0.9584356                  \n",
       "5 -0.99254248                     -0.9925360                     0.42222010                          -0.9846176                  \n",
       "6 -0.93330036                     -0.9218040                     0.26639115                          -0.8621902                  \n",
       "  freqBodyBodyGyroMagStd_mean freqBodyBodyGyroMagMeanFreq_mean freqBodyBodyGyroJerkMagMean_mean freqBodyBodyGyroJerkMagStd_mean\n",
       "1 -0.3210180                   0.2688443675                    -0.3193086                       -0.3816019                     \n",
       "2 -0.1829855                  -0.2193033761                    -0.6346651                       -0.6939305                     \n",
       "3 -0.3983504                   0.3496138955                    -0.2819634                       -0.3919199                     \n",
       "4 -0.9321984                  -0.0002621867                    -0.9897975                       -0.9870496                     \n",
       "5 -0.9784661                  -0.0286057725                    -0.9948154                       -0.9946711                     \n",
       "6 -0.8243194                  -0.1397750127                    -0.9423669                       -0.9326607                     \n",
       "  freqBodyBodyGyroJerkMagMeanFreq_mean\n",
       "1 0.1906634                           \n",
       "2 0.1142773                           \n",
       "3 0.1900007                           \n",
       "4 0.1847759                           \n",
       "5 0.3344987                           \n",
       "6 0.1764859                           "
      ]
     },
     "metadata": {},
     "output_type": "display_data"
    }
   ],
   "source": [
    "\n",
    "head(tidyDf2,n=6)"
   ]
  },
  {
   "cell_type": "code",
   "execution_count": null,
   "metadata": {},
   "outputs": [],
   "source": []
  },
  {
   "cell_type": "code",
   "execution_count": null,
   "metadata": {},
   "outputs": [],
   "source": []
  },
  {
   "cell_type": "code",
   "execution_count": null,
   "metadata": {},
   "outputs": [],
   "source": []
  },
  {
   "cell_type": "code",
   "execution_count": null,
   "metadata": {},
   "outputs": [],
   "source": []
  },
  {
   "cell_type": "code",
   "execution_count": null,
   "metadata": {},
   "outputs": [],
   "source": []
  },
  {
   "cell_type": "code",
   "execution_count": null,
   "metadata": {},
   "outputs": [],
   "source": []
  },
  {
   "cell_type": "code",
   "execution_count": null,
   "metadata": {},
   "outputs": [],
   "source": []
  }
 ],
 "metadata": {
  "kernelspec": {
   "display_name": "R",
   "language": "R",
   "name": "ir"
  },
  "language_info": {
   "codemirror_mode": "r",
   "file_extension": ".r",
   "mimetype": "text/x-r-source",
   "name": "R",
   "pygments_lexer": "r",
   "version": "3.6.3"
  }
 },
 "nbformat": 4,
 "nbformat_minor": 2
}
